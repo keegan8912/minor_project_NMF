{
 "cells": [
  {
   "cell_type": "code",
   "execution_count": null,
   "metadata": {},
   "outputs": [],
   "source": [
    "#NMF implementation on Chopin replicating sec 8.3"
   ]
  },
  {
   "cell_type": "code",
   "execution_count": null,
   "metadata": {},
   "outputs": [],
   "source": [
    "%run common_init_.py"
   ]
  },
  {
   "cell_type": "code",
   "execution_count": null,
   "metadata": {},
   "outputs": [],
   "source": [
    "x, Fs = sf.read('Chopin_Op028-04_003_20100611-SMD.wav')\n",
    "x = x.astype(float)\n",
    "x = x.sum(axis=1) / 2\n",
    "N = 8192\n",
    "# N = 10250\n",
    "H = 1024\n",
    "# H = 512\n",
    "w = np.hanning(N)\n",
    "X = librosa.core.stft(x,n_fft=N,hop_length=H, window=w)\n",
    "print(\"Shape of X is :\", X.shape)\n",
    "Y = np.abs(X)**2\n",
    "print(\"Shape of Y is :\", Y.shape)"
   ]
  },
  {
   "cell_type": "code",
   "execution_count": null,
   "metadata": {},
   "outputs": [],
   "source": [
    "## These csv files were created externally using third party script\n",
    "## midi file in 'pm' converted to csv and seperated into LH and RH csvs\n",
    "## Contains all the pitches, ticks and if note is 'on'\n",
    "p = pandas.read_csv('chopinL.csv', names=['trackId', 'ticks', 'on', 'idx', 'pitch', 'velocity'])\n",
    "q = pandas.read_csv('chopinR.csv', names=['trackId', 'ticks', 'on', 'idx', 'pitch', 'velocity'])\n",
    "# noteOns = []\n",
    "pitchL = []\n",
    "pitchR = []\n",
    "ticksL = []\n",
    "ticksR = []\n",
    "noteOnL = []\n",
    "noteOnR = []\n",
    "for i in range(len(p.ticks)):\n",
    "    ticksL.append(p.ticks[i])\n",
    "    pitchL.append(p.pitch[i])\n",
    "    noteOnL.append(p.on[i])\n",
    "\n",
    "    \n",
    "for i in range(len(q.ticks)):\n",
    "    ticksR.append(q.ticks[i])\n",
    "    pitchR.append(q.pitch[i])\n",
    "    noteOnR.append(q.on[i])"
   ]
  },
  {
   "cell_type": "code",
   "execution_count": null,
   "metadata": {},
   "outputs": [],
   "source": [
    "pm = pretty_midi.PrettyMIDI('Chopin_Op028-04_MIDI_Mutopia-LR_warpedTo_Chopin_Op028-04_003_20100611-SMD.mid')\n",
    "\n",
    "## reading the midi file"
   ]
  },
  {
   "cell_type": "code",
   "execution_count": null,
   "metadata": {},
   "outputs": [],
   "source": [
    "## ticks converted to time, separated into ticks for note 'on' and note 'off'\n",
    "ticksL = np.asarray(ticksL)\n",
    "ticksR = np.asarray(ticksR)\n",
    "timeL = np.zeros(len(ticksL))\n",
    "timeR = np.zeros(len(ticksR))\n",
    "\n",
    "for i in range(len(ticksL)):\n",
    "    timeL[i] = pm.tick_to_time(ticksL[i])\n",
    "for i in range(len(ticksR)):\n",
    "    timeR[i] =  pm.tick_to_time(ticksR[i])\n",
    "ticksL_off = []\n",
    "ticksR_off = []\n",
    "ticksL_new = []  #on\n",
    "ticksR_new = []  #on\n",
    "pitch_ons_L = []\n",
    "pitch_ons_R = []\n",
    "for i in range(len(noteOnL)):\n",
    "    if noteOnL[i] == ' Note_on_c' or noteOnL[i] == 'Note_on_c':\n",
    "        ticksL_new.append(ticksL[i])\n",
    "        pitch_ons_L.append(pitchL[i])\n",
    "    elif noteOnL[i] == ' Note_off_c' or noteOnL[i] == 'Note_off_c':\n",
    "        ticksL_off.append(ticksL[i])\n",
    "for i in range(len(noteOnR)):\n",
    "    if noteOnR[i] == ' Note_on_c' or noteOnR[i] == 'Note_on_c':\n",
    "        pitch_ons_R.append(pitchR[i])\n",
    "        ticksR_new.append(ticksR[i])\n",
    "    elif noteOnR[i] == ' Note_off_c' or noteOnR[i] == 'Note_off_c':\n",
    "        ticksR_off.append(ticksR[i])\n",
    "\n",
    "timeL_new = np.zeros(len(ticksL_new))\n",
    "timeR_new = np.zeros(len(ticksR_new))\n",
    "timeL_off = np.zeros(len(ticksL_off))\n",
    "timeR_off = np.zeros(len(ticksR_off))\n",
    "for i in range(len(ticksL_new)):\n",
    "    timeL_new[i] = pm.tick_to_time(ticksL_new[i])\n",
    "    timeL_off[i] = pm.tick_to_time(ticksL_off[i])\n",
    "for i in range(len(ticksR_new)):\n",
    "    timeR_new[i] =  pm.tick_to_time(ticksR_new[i])\n",
    "    timeR_off[i] = pm.tick_to_time(ticksR_off[i])"
   ]
  },
  {
   "cell_type": "code",
   "execution_count": null,
   "metadata": {},
   "outputs": [],
   "source": [
    "#Rank 37 chosen by default as Chopin has 37 different pitches occuring\n",
    "W_ = np.zeros((X.shape[0],37))\n",
    "H_ = np.zeros((37,X.shape[1]))\n"
   ]
  },
  {
   "cell_type": "code",
   "execution_count": null,
   "metadata": {},
   "outputs": [],
   "source": [
    "stft_frame_rate = H/Fs\n",
    "# stft_frame_rate = Fs/N\n",
    "## gives the piano roll using midi\n",
    "h_roll = pm.get_piano_roll(fs=Fs, times=np.arange(0,119.0149433106576, stft_frame_rate))"
   ]
  },
  {
   "cell_type": "code",
   "execution_count": null,
   "metadata": {},
   "outputs": [],
   "source": [
    "pitches = []\n",
    "for instrument in pm.instruments:\n",
    "    for note in instrument.notes:\n",
    "        pitches.append(note.pitch)\n",
    "diff_pitches, dupl_pitches = dupLists(pitches)       \n",
    "\n",
    "##returns the different pitches and duplicate pitches found in the midi\n",
    "## hence rank chosen is 37"
   ]
  },
  {
   "cell_type": "code",
   "execution_count": null,
   "metadata": {},
   "outputs": [],
   "source": [
    "h_roll_new = np.zeros((len(diff_pitches), X.shape[1])) # rank reduction from 128 to 37 \n",
    "# h_roll_new = np.zeros((len(diff_pitches), X.shape[0])) # rank reduction from 128 to 37 \n",
    "for i in range(len(diff_pitches)):\n",
    "    h_roll_new[i,:] = h_roll[diff_pitches[i],:]\n",
    "plt.figure(figsize=(15,5))\n",
    "librosa.display.specshow(h_roll_new, x_axis='time', y_axis='frames', vmax=0.05, cmap='Blues', sr=Fs, hop_length=H)\n",
    "plt.title('H matrix piano roll')\n",
    "plt.xlabel('Time (s)')\n",
    "plt.ylabel('components')\n",
    "# plt.savefig('H_chopin_piano_roll.png', bbox_inches='tight')\n",
    "h_roll_new.shape"
   ]
  },
  {
   "cell_type": "code",
   "execution_count": null,
   "metadata": {},
   "outputs": [],
   "source": []
  },
  {
   "cell_type": "code",
   "execution_count": null,
   "metadata": {},
   "outputs": [],
   "source": [
    "##### Random init NMF for Chopin #######"
   ]
  },
  {
   "cell_type": "code",
   "execution_count": null,
   "metadata": {},
   "outputs": [],
   "source": [
    "# np.random.seed(0)\n",
    "# t = time.time()\n",
    "# # V = Y\n",
    "# V = np.abs(X)\n",
    "# R = 37   #there are 37 different pitches as per the midi file\n",
    "#             # there are 128 diff midi classes\n",
    "# eps = 10\n",
    "# W_, H_, W_ret = NMF(V,R,eps)\n",
    "# elapsed = time.time()-t\n",
    "# print(\"Time elapsed (sec) :\", elapsed)"
   ]
  },
  {
   "cell_type": "code",
   "execution_count": null,
   "metadata": {},
   "outputs": [],
   "source": [
    "\n",
    "###numba\n",
    "t = time.time()\n",
    "# V = Y\n",
    "V = np.abs(X)\n",
    "R = 37   #there are 37 different pitches as per the midi file\n",
    "            # there are 128 diff midi classes\n",
    "eps = 10\n",
    "W_, H_ = nu_NMF(V,R,eps)\n",
    "elapsed = time.time()-t\n",
    "print(\"Time elapsed (sec) :\", elapsed)"
   ]
  },
  {
   "cell_type": "code",
   "execution_count": null,
   "metadata": {},
   "outputs": [],
   "source": [
    "(K, N) = V.shape\n",
    "plt.figure(figsize=(15,5))\n",
    "plt.subplot(1,2,1)\n",
    "librosa.display.specshow(np.random.rand(K,R), y_axis='linear', x_axis='frames', vmax=0.05, cmap='Blues', sr=Fs, hop_length=H)\n",
    "plt.xlabel('components')\n",
    "plt.title('random init W')\n",
    "# plt.xticks(range(len(diff_pitches)), diff_pitches)\n",
    "plt.subplot(1,2,2)\n",
    "librosa.display.specshow(np.random.rand(R,N), x_axis='time',y_axis='frames', vmax=0.5, cmap='Blues', sr=Fs, hop_length=H)\n",
    "# plt.yticks(range(len(diff_pitches)), diff_pitches)\n",
    "plt.ylabel('components')\n",
    "plt.xlabel('Time (s)')\n",
    "plt.title('random H')"
   ]
  },
  {
   "cell_type": "code",
   "execution_count": null,
   "metadata": {},
   "outputs": [],
   "source": [
    "# H_small_rand = np.random.rand(8, 431)\n",
    "# W_small_rand = np.random.rand(174,8)"
   ]
  },
  {
   "cell_type": "code",
   "execution_count": null,
   "metadata": {},
   "outputs": [],
   "source": [
    "# ## Smaller snapshot matrices created from the larger ones\n",
    "# H_small_rand = np.random.rand(8, 431)\n",
    "# W_small_rand = np.random.rand(174,8)\n",
    "\n",
    "\n",
    "# fig = plt.figure(figsize=(15,5))\n",
    "\n",
    "# ax = fig.add_subplot(1,2,1)\n",
    "# librosa.display.specshow(W_small_rand, x_axis='frames', vmax=1, cmap='Blues',y_axis='linear', sr=2*upper_new, hop_length=H)\n",
    "# plt.xticks(np.arange(0.5, len(pitches_ten_sec)+0.5,1), pitches_ten_sec)\n",
    "# plt.ylabel('Hz')\n",
    "# plt.yticks(np.arange(0.5, (1500)+0.5, 499),np.arange(0,2000,500))\n",
    "# plt.title('W random initialization')\n",
    "# plt.xlabel('note number')\n",
    "# plt.subplot(1,2,2)\n",
    "# librosa.display.specshow(H_small_rand, x_axis='frames',y_axis='frames', vmax=1, cmap='Blues')\n",
    "# plt.xticks(np.arange(0.5,H_small_rand.shape[1], np.int(np.around(2*H_small_rand.shape[1]/(right_new)))), np.arange(0,np.around(right_new+1),2))\n",
    "# plt.yticks(np.arange(0.5, len(pitches_ten_sec)+0.5,1), pitches_ten_sec)\n",
    "# plt.ylabel('note number')\n",
    "# plt.title('H random initialization')\n",
    "# plt.xlabel('Time (s)')\n",
    "# # plt.savefig('H_W_init_random_chopin_small.png', bbox_inches='tight')\n",
    "\n",
    "\n",
    "\n"
   ]
  },
  {
   "cell_type": "code",
   "execution_count": null,
   "metadata": {},
   "outputs": [],
   "source": [
    "T_coef = np.arange(X.shape[1]) * H / Fs\n",
    "F_coef = np.arange(X.shape[0]) * Fs / N\n",
    "duration = (len(x)//Fs) + 1\n",
    "left = min(T_coef)\n",
    "right = max(T_coef) + N / Fs\n",
    "lower = min(F_coef)\n",
    "upper = max(F_coef)\n",
    "ratio_ = (upper/X.shape[0])\n",
    "pitches = []\n",
    "for instrument in pm.instruments:\n",
    "    for note in instrument.notes:\n",
    "        pitches.append(note.pitch)\n",
    "diff_pitches, dupl_pitches = dupLists(pitches)\n",
    "\n",
    "## Here pitches are convered into matrix indexes depending on the size of stft matrix\n",
    "per_bin = X.shape[1]/((len(x)/Fs))\n",
    "time_taken = 10\n",
    "total_bin =np.int( np.around(per_bin*time_taken) )\n",
    "\n",
    "indexes = []\n",
    "H_small = np.zeros((8,total_bin))\n",
    "fr_size = np.around(np.int(1500*X.shape[0]/upper))\n",
    "W_small = np.zeros((fr_size,8))\n",
    "pitches_ten_sec = [54,55,57,59,63,64,71,72]\n",
    "for i in range(len(pitches_ten_sec)):\n",
    "    indexes.append(diff_pitches.index(pitches_ten_sec[i]))\n",
    "print(indexes)\n",
    "\n",
    "## Smaller snapshot matrices created from the larger ones\n",
    "for i in range(8):\n",
    "    H_small[i,:] = H_[indexes[i],0:total_bin]\n",
    "    W_small[:,i] = W_[0:fr_size, indexes[i]]\n",
    "upper_new = (upper/X.shape[0])*W_small.shape[0]\n",
    "right_new = (right/X.shape[1])*H_small.shape[1]\n",
    "\n",
    "\n",
    "\n",
    "fig = plt.figure(figsize=(15,5))\n",
    "\n",
    "ax = fig.add_subplot(1,2,1)\n",
    "librosa.display.specshow(W_small, x_axis='frames', vmax=1, cmap='Blues',y_axis='linear', sr=2*upper_new, hop_length=H)\n",
    "plt.xticks(np.arange(0.5, len(pitches_ten_sec)+0.5,1), pitches_ten_sec)\n",
    "plt.ylabel('Hz')\n",
    "plt.yticks(np.arange(0.5, (1500)+0.5, 499),np.arange(0,2000,500))\n",
    "plt.title('W learnt from random initialization')\n",
    "plt.xlabel('note number')\n",
    "plt.subplot(1,2,2)\n",
    "librosa.display.specshow(H_small, x_axis='frames',y_axis='frames', vmax=5e-3, cmap='Blues')\n",
    "plt.xticks(np.arange(0.5,H_small.shape[1], np.int(np.around(2*H_small.shape[1]/(right_new)))), np.arange(0,np.around(right_new+1),2))\n",
    "plt.yticks(np.arange(0.5, len(pitches_ten_sec)+0.5,1), pitches_ten_sec)\n",
    "plt.ylabel('note number')\n",
    "plt.title('H learnt from random initialization')\n",
    "plt.xlabel('Time (s)')\n",
    "# plt.savefig('H_W_learnt_random_chopin_small.png', bbox_inches='tight')"
   ]
  },
  {
   "cell_type": "code",
   "execution_count": null,
   "metadata": {},
   "outputs": [],
   "source": []
  },
  {
   "cell_type": "code",
   "execution_count": null,
   "metadata": {},
   "outputs": [],
   "source": [
    "####### Now harmonic init NMF #######"
   ]
  },
  {
   "cell_type": "code",
   "execution_count": null,
   "metadata": {},
   "outputs": [],
   "source": [
    "## template constraint W matrix created\n",
    "#upper, lower, left, right bounds for plotting\n",
    "T_coef = np.arange(X.shape[1]) * H / Fs\n",
    "F_coef = np.arange(X.shape[0]) * Fs / N\n",
    "left = min(T_coef)\n",
    "right = max(T_coef) + N / Fs\n",
    "lower = min(F_coef)\n",
    "upper = max(F_coef)\n",
    "ratio_ = (upper/X.shape[0])\n",
    "W_harm = np.zeros((X.shape[0],37))\n",
    "# W_harm = np.zeros((X.shape[1],37))\n",
    "for i in range(W_harm.shape[1]):\n",
    "    temp1 = pretty_midi.note_number_to_hz(diff_pitches[i]) #convert to freq\n",
    "    for p in range(1,25):\n",
    "        temp_cord = np.int(np.around((temp1*p)/ratio_)) #freq to matrix depending on ratio\n",
    "        W_harm[temp_cord-5:temp_cord+(p), i] = 1/np.float(p) #1/np.float(p**2) #try inverting the size and inverting values"
   ]
  },
  {
   "cell_type": "code",
   "execution_count": null,
   "metadata": {
    "scrolled": true
   },
   "outputs": [],
   "source": [
    "R = 37 ## default value\n",
    "plt.figure(figsize=(15,5))\n",
    "plt.subplot(1,2,1)\n",
    "librosa.display.specshow(W_harm, y_axis='linear', x_axis='frames', vmax=0.005, cmap='Blues', sr=Fs, hop_length=H)\n",
    "plt.xlabel('components')\n",
    "plt.title('W harmonic init')\n",
    "\n",
    "plt.subplot(1,2,2)\n",
    "librosa.display.specshow(np.random.rand(R,X.shape[1]), x_axis='time',y_axis='frames', vmax=0.05, cmap='Blues')\n",
    "# plt.yticks(range(len(diff_pitches)), diff_pitches)\n",
    "plt.ylabel('components')\n",
    "plt.title('H random init')\n",
    "plt.xlabel('Time')"
   ]
  },
  {
   "cell_type": "code",
   "execution_count": null,
   "metadata": {},
   "outputs": [],
   "source": [
    "#scaling down parameters for a snapshot view\n",
    "per_bin = X.shape[1]/((len(x)/Fs))\n",
    "time_taken = 10\n",
    "total_bin =np.int( np.around(per_bin*time_taken) )\n",
    "indexes = []\n",
    "H_random = np.random.rand(R,X.shape[1])\n",
    "#W_random = np.random.rand(X.shape[0], R)\n",
    "H_small = np.zeros((8,total_bin))\n",
    "fr_size = np.around(np.int(1500*X.shape[0]/upper))\n",
    "W_small = np.zeros((fr_size,8))\n",
    "pitches_ten_sec = [54,55,57,59,63,64,71,72]\n",
    "for i in range(len(pitches_ten_sec)):\n",
    "    indexes.append(diff_pitches.index(pitches_ten_sec[i]))\n",
    "for i in range(0,8):\n",
    "#     H_small[i,:] = h_roll_new[indexes[i],0:total_bin]\n",
    "    W_small[:,i] = W_harm[0:fr_size, indexes[i]]\n",
    "upper_new = (upper/X.shape[0])*W_small.shape[0]\n",
    "right_new = (right/X.shape[1])*H_small.shape[1]\n",
    "\n",
    "\n",
    "# #snapshot (zoomed) view into initialised matrices\n",
    "# fig = plt.figure(figsize=(15,5))\n",
    "# ax = fig.add_subplot(1,2,1)\n",
    "# librosa.display.specshow(W_small, x_axis='frames', vmax=1, cmap='Blues',y_axis='linear', sr=2*upper_new, hop_length=H)\n",
    "# plt.xticks(np.arange(0.5, len(pitches_ten_sec)+0.5,1), pitches_ten_sec)\n",
    "# plt.yticks(np.arange(0.5, (1500)+0.5, 499),np.arange(0,2000,500))\n",
    "# plt.ylabel('Hz')\n",
    "# plt.title('W harmonic initialisation')\n",
    "# plt.xlabel('note number')\n",
    "# plt.subplot(1,2,2)\n",
    "# librosa.display.specshow(H_small_rand, x_axis='frames',y_axis='frames', vmax=1, cmap='Blues')\n",
    "# plt.xticks(np.arange(0.5,H_small_rand.shape[1], np.int(np.around(2*H_small_rand.shape[1]/(right_new)))), np.arange(0,np.around(right_new+1),2))\n",
    "# plt.yticks(np.arange(0.5, len(pitches_ten_sec)+0.5,1), pitches_ten_sec)\n",
    "# plt.ylabel('note number')\n",
    "# plt.title('H random initialisation')\n",
    "# plt.xlabel('Time (s)')\n",
    "\n",
    "# plt.savefig('H_W_init_harmonic_chopin_small.png', bbox_inches='tight')\n",
    "\n",
    "\n"
   ]
  },
  {
   "cell_type": "code",
   "execution_count": null,
   "metadata": {},
   "outputs": [],
   "source": [
    "#scaling down parameters for a snapshot view\n",
    "per_bin = X.shape[1]/((len(x)/Fs))\n",
    "time_taken = 10\n",
    "total_bin =np.int( np.around(per_bin*time_taken) )\n",
    "indexes = []\n",
    "H_random = np.random.rand(R,X.shape[1])\n",
    "W_random = np.random.rand(X.shape[0], R)\n",
    "H_small = np.zeros((8,total_bin))\n",
    "fr_size = np.around(np.int(1500*X.shape[0]/upper))\n",
    "W_small = np.zeros((fr_size,8))\n",
    "pitches_ten_sec = [54,55,57,59,63,64,71,72]\n",
    "for i in range(len(pitches_ten_sec)):\n",
    "    indexes.append(diff_pitches.index(pitches_ten_sec[i]))\n",
    "for i in range(0,8):\n",
    "    H_small[i,:] = h_roll_new[indexes[i],0:total_bin]\n",
    "    W_small[:,i] = W_harm[0:fr_size, indexes[i]]\n",
    "upper_new = (upper/X.shape[0])*W_small.shape[0]\n",
    "right_new = (right/X.shape[1])*H_small.shape[1]"
   ]
  },
  {
   "cell_type": "code",
   "execution_count": null,
   "metadata": {},
   "outputs": [],
   "source": [
    "#snapshot (zoomed) view into initialised matrices\n",
    "fig = plt.figure(figsize=(15,5))\n",
    "ax = fig.add_subplot(1,2,1)\n",
    "librosa.display.specshow(W_small, x_axis='frames', vmax=1, cmap='Blues',y_axis='linear', sr=2*upper_new, hop_length=H)\n",
    "plt.xticks(np.arange(0.5, len(pitches_ten_sec)+0.5,1), pitches_ten_sec)\n",
    "plt.yticks(np.arange(0.5, (1500)+0.5, 499),np.arange(0,2000,500))\n",
    "plt.ylabel('Hz')\n",
    "plt.title('W harmonic initialisation')\n",
    "plt.xlabel('note number')\n",
    "plt.subplot(1,2,2)\n",
    "librosa.display.specshow(H_small, x_axis='frames',y_axis='frames', vmax=1, cmap='Blues')\n",
    "plt.xticks(np.arange(0.5,H_small.shape[1], np.int(np.around(2*H_small.shape[1]/(right_new)))), np.arange(0,np.around(right_new+1),2))\n",
    "plt.yticks(np.arange(0.5, len(pitches_ten_sec)+0.5,1), pitches_ten_sec)\n",
    "plt.ylabel('note number')\n",
    "plt.title('H score initialisation')\n",
    "plt.xlabel('Time (s)')\n",
    "\n",
    "# plt.savefig('H_W_init_score_chopin_small.png', bbox_inches='tight')\n",
    "\n",
    "\n"
   ]
  },
  {
   "cell_type": "code",
   "execution_count": null,
   "metadata": {},
   "outputs": [],
   "source": [
    "#harmonic init W and H is random\n",
    "t = time.time()\n",
    "# V = Y\n",
    "V = np.abs(X)\n",
    "R = 37   #there are 37 different pitches as per the midi file\n",
    "            #total 128 midi classes\n",
    "eps = 10\n",
    "# W_, H_, W_ret, H_ret = NMF(V,R,eps)\n",
    "[W_harm_learnt, H_harm_learnt] = NMF_const(V,R,eps, W_harm)\n",
    "elapsed = time.time()-t\n",
    "print(\"Time elapsed (sec) :\", elapsed)"
   ]
  },
  {
   "cell_type": "code",
   "execution_count": null,
   "metadata": {},
   "outputs": [],
   "source": [
    "# ### numba of the same as above\n",
    "# t = time.time()\n",
    "# # V = Y\n",
    "# V = np.abs(X)\n",
    "# R = 37   #there are 37 different pitches as per the midi file\n",
    "# eps = 10\n",
    "# [W_harm_learnt, H_harm_learnt] = nu_NMF_const(V,R,eps, W_harm)\n",
    "# elapsed = time.time()-t\n",
    "# print(\"Time elapsed (sec) :\", elapsed)"
   ]
  },
  {
   "cell_type": "code",
   "execution_count": null,
   "metadata": {},
   "outputs": [],
   "source": [
    "plt.figure(figsize=(15,5))\n",
    "plt.subplot(1,2,1)\n",
    "librosa.display.specshow(W_harm_learnt, y_axis='linear', x_axis='frames', vmax=0.005, cmap='Blues', sr=Fs, hop_length=H)\n",
    "plt.xlabel('components')\n",
    "plt.title('learnt W')\n",
    "plt.subplot(1,2,2)\n",
    "librosa.display.specshow(H_harm_learnt, x_axis='time',y_axis='frames', vmax=0.05, cmap='Blues')\n",
    "plt.yticks(np.arange(0.5, len(diff_pitches), 1), diff_pitches)\n",
    "plt.ylabel('components')\n",
    "plt.title('learnt H')\n",
    "plt.xlabel('Time (s)')\n",
    "##use H from piano roll for this."
   ]
  },
  {
   "cell_type": "code",
   "execution_count": null,
   "metadata": {},
   "outputs": [],
   "source": [
    "#snapshot view\n",
    "per_bin = X.shape[1]/((len(x)/Fs))\n",
    "time_taken = 10\n",
    "total_bin =np.int( np.around(per_bin*time_taken) )\n",
    "indexes = []\n",
    "H_small = np.zeros((8,total_bin))\n",
    "H_piano_small = np.zeros((8,total_bin))\n",
    "fr_size = np.around(np.int(1500*X.shape[0]/upper))\n",
    "W_small = np.zeros((fr_size,8))\n",
    "pitches_ten_sec = [54,55,57,59,63,64,71,72]\n",
    "for i in range(len(pitches_ten_sec)):\n",
    "    indexes.append(diff_pitches.index(pitches_ten_sec[i]))\n",
    "for i in range(0,8):\n",
    "    H_small[i,:] = H_harm_learnt[indexes[i],0:total_bin]\n",
    "    W_small[:,i] = W_harm_learnt[0:fr_size, indexes[i]]\n",
    "    H_piano_small[i,:] = h_roll_new[indexes[i],0:total_bin]\n",
    "upper_new = (upper/X.shape[0])*W_small.shape[0]\n",
    "right_new = (right/X.shape[1])*H_small.shape[1]"
   ]
  },
  {
   "cell_type": "code",
   "execution_count": null,
   "metadata": {},
   "outputs": [],
   "source": [
    "fig = plt.figure(figsize=(15,5))\n",
    "ax = fig.add_subplot(1,2,1)\n",
    "librosa.display.specshow(W_small, x_axis='frames', vmax=1e-3, cmap='Blues',y_axis='linear', sr=2*upper_new, hop_length=H)\n",
    "plt.xticks(np.arange(0.5, len(pitches_ten_sec)+0.5,1), pitches_ten_sec)\n",
    "plt.yticks(np.arange(0.5, (1500)+0.5, 499),np.arange(0,2000,500))\n",
    "plt.ylabel('Hz')\n",
    "plt.title('W learnt (harmonic initialisation)')\n",
    "plt.xlabel('note number')\n",
    "plt.subplot(1,2,2)\n",
    "librosa.display.specshow(H_small, x_axis='frames',y_axis='frames', vmax=1, cmap='Blues')\n",
    "plt.xticks(np.arange(0.5,H_small.shape[1], np.int(np.around(2*H_small.shape[1]/(right_new)))), np.arange(0,np.around(right_new+1),2))\n",
    "plt.yticks(np.arange(0.5, len(pitches_ten_sec)+0.5,1), pitches_ten_sec)\n",
    "plt.ylabel('note number')\n",
    "plt.title('H learnt (random initialisation)')\n",
    "plt.xlabel('Time (s)')\n",
    "# plt.savefig('H_W_learnt_harmonic_chopin_small.png', bbox_inches='tight')\n"
   ]
  },
  {
   "cell_type": "code",
   "execution_count": null,
   "metadata": {},
   "outputs": [],
   "source": [
    "##### Score informed NMF #####"
   ]
  },
  {
   "cell_type": "code",
   "execution_count": null,
   "metadata": {},
   "outputs": [],
   "source": [
    "# ## for score informed NMF, we just use the piano roll from midi as the score initialised H\n",
    "t = time.time()\n",
    "# V = Y\n",
    "V = np.abs(X)\n",
    "R = 37   #there are 37 different pitches as per the midi file\n",
    "eps = 10\n",
    "# W_, H_, W_ret, H_ret = NMF(V,R,eps)\n",
    "[W_score_learnt_, H_score_learnt] = NMF_const_score(V,R,eps, W_harm, h_roll_new)\n",
    "# [W_harm_learnt, H_harm_learnt, W_dist, H_dist] = NMF_const(V,R,eps, W_harm)\n",
    "elapsed = time.time()-t\n",
    "print(\"Time elapsed (sec) :\", elapsed)"
   ]
  },
  {
   "cell_type": "code",
   "execution_count": null,
   "metadata": {},
   "outputs": [],
   "source": [
    "# #numba with score informed\n",
    "\n",
    "# t = time.time()\n",
    "# # V = Y\n",
    "# V = np.abs(X)\n",
    "# R = 37   #there are 37 different pitches as per the midi file\n",
    "# eps = 10\n",
    "# # W_, H_, W_ret, H_ret = NMF(V,R,eps)\n",
    "# [W_score_learnt_, H_score_learnt] = nu_NMF_const_score(V,R,eps, W_harm, h_roll_new)\n",
    "# # [W_harm_learnt, H_harm_learnt, W_dist, H_dist] = NMF_const(V,R,eps, W_harm)\n",
    "# elapsed = time.time()-t\n",
    "# print(\"Time elapsed (sec) :\", elapsed)\n",
    "\n",
    "# # Error in H is : 0.10065947474992439\n",
    "# # Error in W is : 9.983682382640888\n",
    "# # Number of interations : 43\n",
    "# # Time elapsed (sec) : 24.943610191345215"
   ]
  },
  {
   "cell_type": "code",
   "execution_count": null,
   "metadata": {},
   "outputs": [],
   "source": [
    "per_bin = X.shape[1]/((len(x)/Fs))\n",
    "time_taken = 10\n",
    "total_bin =np.int( np.around(per_bin*time_taken) )\n",
    "indexes = []\n",
    "H_small = np.zeros((8,total_bin))\n",
    "fr_size = np.around(np.int(1500*X.shape[0]/upper))\n",
    "W_small = np.zeros((fr_size,8))\n",
    "pitches_ten_sec = [54,55,57,59,63,64,71,72]\n",
    "for i in range(len(pitches_ten_sec)):\n",
    "    indexes.append(diff_pitches.index(pitches_ten_sec[i]))\n",
    "for i in range(0,8):\n",
    "    H_small[i,:] = H_score_learnt[indexes[i],0:total_bin]\n",
    "    W_small[:,i] = W_score_learnt_[0:fr_size, indexes[i]]\n",
    "upper_new = (upper/X.shape[0])*W_small.shape[0]\n",
    "right_new = (right/X.shape[1])*H_small.shape[1]"
   ]
  },
  {
   "cell_type": "code",
   "execution_count": null,
   "metadata": {},
   "outputs": [],
   "source": [
    "fig = plt.figure(figsize=(15,5))\n",
    "ax = fig.add_subplot(1,2,1)\n",
    "librosa.display.specshow(W_small, x_axis='frames', vmax=1e-2, cmap='Blues',y_axis='linear', sr=2*upper_new, hop_length=H)\n",
    "plt.xticks(np.arange(0.5, len(pitches_ten_sec)+0.5,1), pitches_ten_sec)\n",
    "plt.yticks(np.arange(0.5, (1500)+0.5, 499),np.arange(0,2000,500))\n",
    "plt.ylabel('Hz')\n",
    "plt.title('W learnt (harmonic initialisation)')\n",
    "plt.xlabel('note number')\n",
    "plt.subplot(1,2,2)\n",
    "librosa.display.specshow(H_small, x_axis='frames',y_axis='frames', vmax=0.05, cmap='Blues')\n",
    "plt.xticks(np.arange(0.5,H_small.shape[1], np.int(np.around(2*H_small.shape[1]/(right_new)))), np.arange(0,np.around(right_new+1),2))\n",
    "plt.yticks(np.arange(0.5, len(pitches_ten_sec)+0.5,1), pitches_ten_sec)\n",
    "plt.ylabel('note number')\n",
    "plt.title('H learnt (score initialisation)')\n",
    "plt.xlabel('Time (s)')\n",
    "# plt.savefig('H_W_learnt_score_chopin_small.png', bbox_inches='tight')\n"
   ]
  },
  {
   "cell_type": "code",
   "execution_count": null,
   "metadata": {},
   "outputs": [],
   "source": [
    "plt.figure(figsize=(15,5))\n",
    "plt.subplot(1,2,1)\n",
    "librosa.display.specshow(W_score_learnt_, y_axis='linear', x_axis='frames', vmax=0.005, cmap='Blues', sr=Fs, hop_length=H)\n",
    "plt.xticks(np.arange(0.5, len(diff_pitches), 1), diff_pitches)\n",
    "plt.xlabel('note number')\n",
    "plt.title('W learnt (Harmonic init)')\n",
    "plt.subplot(1,2,2)\n",
    "librosa.display.specshow(H_score_learnt, x_axis='time',y_axis='frames', vmax=0.05, cmap='Blues')\n",
    "plt.yticks(np.arange(0.5, len(diff_pitches), 1), diff_pitches)\n",
    "plt.ylabel('note number')\n",
    "plt.title('H learnt (random init)')\n",
    "plt.xlabel('Time (s)')"
   ]
  },
  {
   "cell_type": "code",
   "execution_count": null,
   "metadata": {},
   "outputs": [],
   "source": [
    "#Comparison of learnt matrix H, with actual piano roll\n",
    "\n",
    "plt.figure(figsize=(15,5))\n",
    "plt.subplot(1,2,1)\n",
    "librosa.display.specshow(H_score_learnt, x_axis='time',y_axis='frames', vmax=0.05, cmap='Blues')\n",
    "# plt.xticks(range(len(diff_pitches)), diff_pitches)\n",
    "plt.yticks(range(len(diff_pitches)), diff_pitches)\n",
    "plt.title('learnt H (score informed)')\n",
    "plt.ylabel('components')\n",
    "plt.xlabel('Time (s)')\n",
    "plt.xlabel('note number')\n",
    "plt.subplot(1,2,2)\n",
    "librosa.display.specshow(h_roll_new, x_axis='time',y_axis='frames', vmax=0.05, cmap='Blues')\n",
    "plt.yticks(range(len(diff_pitches)), diff_pitches)\n",
    "plt.title('Midi piano roll')\n",
    "plt.ylabel('note number')\n",
    "plt.xlabel('Time (s)')"
   ]
  },
  {
   "cell_type": "code",
   "execution_count": null,
   "metadata": {},
   "outputs": [],
   "source": [
    "#Reconstruction of the learnt matrices\n",
    "\n",
    "phase_ = np.angle(X)\n",
    "V_recons_harm = np.dot(W_harm_learnt,H_harm_learnt)*np.exp(phase_, dtype='complex')\n",
    "y2 = librosa.istft(X, win_length=N, hop_length=H)\n",
    "y3 = librosa.istft(np.sqrt(V_recons_harm), win_length=N, hop_length=H)\n",
    "mask_total_num = np.dot(W_harm_learnt, H_harm_learnt)\n",
    "mask_total_dem = mask_total_num + np.finfo(float).eps\n",
    "mask_total = np.divide(mask_total_num, mask_total_dem)\n",
    "new_Y = np.multiply(Y, mask_total)\n",
    "V_total_recons2_harm = new_Y*np.exp(phase_, dtype='complex')\n",
    "total_aud_recons_2 = librosa.istft(np.sqrt(V_total_recons2_harm), win_length=N, hop_length=H)"
   ]
  },
  {
   "cell_type": "code",
   "execution_count": null,
   "metadata": {},
   "outputs": [],
   "source": [
    "# out = np.zeros((total_aud_recons_2.shape[0], 2))\n",
    "# out[:,0] = total_aud_recons_2\n",
    "# out[:,1] = total_aud_recons_2\n",
    "\n",
    "\n",
    "# librosa.output.write_wav('chopin_harmonic_reconst.wav', out, sr=Fs, norm=True)\n",
    "\n",
    "Audio(total_aud_recons_2, rate=Fs)  #after harmonic initialisation and H is random"
   ]
  },
  {
   "cell_type": "code",
   "execution_count": null,
   "metadata": {},
   "outputs": [],
   "source": [
    "######### onset model with Chopin ########"
   ]
  },
  {
   "cell_type": "code",
   "execution_count": null,
   "metadata": {},
   "outputs": [],
   "source": [
    "### Time indices for onset positions using list created at the start\n",
    "## create a matrice of onset positions\n",
    "temp_mat = np.zeros((h_roll.shape[0], h_roll.shape[1]))\n",
    "\n",
    "\n",
    "# Lidx = timeL * (Fs/H)\n",
    "# Ridx = timeR * (Fs/H)\n",
    "# for i in range(len(pitchL)):\n",
    "#     temp_mat[pitchL[i], np.int(Lidx[i])-10:np.int(Lidx[i])+2] = 0.5\n",
    "# for i in range(len(pitchR)):\n",
    "#     temp_mat[pitchR[i], np.int(Ridx[i])-10:np.int(Ridx[i])+2] = 0.5\n",
    "\n",
    "Lidx = timeL_new * (Fs/H)\n",
    "Ridx = timeR_new * (Fs/H)\n",
    "for i in range(len(pitchL)):\n",
    "    temp_mat[pitchL[i], np.int(Lidx[i//2]):np.int(Lidx[i//2])+5] = 0.5\n",
    "    ## for pitches of Left hand, and time indices (margin of 5 values) \n",
    "for i in range(len(pitchR)):\n",
    "    temp_mat[pitchR[i], np.int(Ridx[i//2]):np.int(Ridx[i//2])+5] = 0.5\n",
    "    ## for pitches of Right hand, and time indices (margin of 5 values) "
   ]
  },
  {
   "cell_type": "code",
   "execution_count": null,
   "metadata": {},
   "outputs": [],
   "source": [
    "temp_mat_new = np.zeros((len(diff_pitches), X.shape[1])) # rank reduction to 37 \n",
    "# temp_mat_new = np.zeros((len(diff_pitches), X.shape[0])) # rank reduction to 37 \n",
    "for i in range(len(diff_pitches)):\n",
    "    temp_mat_new[i,:] = temp_mat[diff_pitches[i],:]\n",
    "    \n",
    "h_roll_new = np.zeros((len(diff_pitches), X.shape[1])) # rank reduction to 37 \n",
    "for i in range(len(diff_pitches)):\n",
    "    h_roll_new[i,:] = h_roll[diff_pitches[i],:]"
   ]
  },
  {
   "cell_type": "code",
   "execution_count": null,
   "metadata": {},
   "outputs": [],
   "source": [
    "## to extend area declared as 1s in score matrix, i.e. to include more columns\n",
    "for i in range(h_roll_new.shape[0]):\n",
    "    for j in range(h_roll_new.shape[1]-10):\n",
    "        if(h_roll_new[i,j+10]>0):\n",
    "            h_roll_new[i,j:j+10] = 1"
   ]
  },
  {
   "cell_type": "code",
   "execution_count": null,
   "metadata": {
    "scrolled": true
   },
   "outputs": [],
   "source": [
    "plt.figure(figsize=(15,5))\n",
    "#piano roll originak\n",
    "librosa.display.specshow(h_roll, x_axis='time',y_axis='frames', vmax=1, cmap='Blues', sr=Fs, hop_length=H)\n",
    "plt.title('H matrix piano roll')\n",
    "plt.xlabel('Time (s)')\n",
    "plt.figure(figsize=(15,5))\n",
    "#rank reduced piano roll\n",
    "librosa.display.specshow(h_roll_new, x_axis='time',y_axis='frames', vmax=0.05, cmap='Blues', sr=Fs, hop_length=H)\n",
    "plt.yticks(range(len(diff_pitches)), diff_pitches)\n",
    "plt.title('H mat piano rank reduced')\n",
    "plt.xlabel('Time (s)')"
   ]
  },
  {
   "cell_type": "code",
   "execution_count": null,
   "metadata": {},
   "outputs": [],
   "source": [
    "#creating onset matrix\n",
    "W_score_onsets = np.zeros((W_harm.shape[0], W_harm.shape[1]*2))\n",
    "\n",
    "#convert pitches to hertz, for even columns, place onset\n",
    "for i in range(W_score_onsets.shape[1]):\n",
    "    temp1 = pretty_midi.note_number_to_hz(diff_pitches[i//2])\n",
    "    if i%2==0:\n",
    "        W_score_onsets[:, i] = 0.25  #np.finfo(float).eps\n",
    "    else:\n",
    "        for p in range(1,20):\n",
    "            temp_cord = np.int(np.around((temp1*p)/ratio_))\n",
    "            W_score_onsets[temp_cord-5:temp_cord+(p), i] = 1/np.float(p)  #1/np.float(p**2)\n",
    "            ## for odd columns, use hertz value and its harmonics\n",
    "            \n",
    "diff_pitches_onset = []\n",
    "for i in range(len(diff_pitches*2)):\n",
    "        diff_pitches_onset.append(diff_pitches[i//2])\n",
    "## make the list double, i.e. diff pitches was say [12, 13, 15] -> make it [12,12,13,13,15,15] etc\n",
    "plt.figure(figsize=(15, 5))\n",
    "plt.subplot(1, 2, 1)\n",
    "librosa.display.specshow(W_harm, y_axis='linear', x_axis='frames', vmax=0.005, cmap='Blues', sr=Fs, hop_length=H)\n",
    "plt.xticks(np.arange(0.5, len(diff_pitches), 1), diff_pitches)\n",
    "plt.xlabel('Note Number')\n",
    "plt.title('Harmonic informed init W')\n",
    "plt.subplot(1, 2, 2)\n",
    "librosa.display.specshow(W_score_onsets, y_axis='linear', x_axis='frames', cmap='Blues', vmax=1, sr=Fs, hop_length=H)\n",
    "plt.xlabel('Note Number')\n",
    "plt.xticks(np.arange(0.5, len(diff_pitches_onset), 1), diff_pitches_onset)\n",
    "plt.title('onset init W')\n"
   ]
  },
  {
   "cell_type": "code",
   "execution_count": null,
   "metadata": {},
   "outputs": [],
   "source": [
    "#creating onset matrix for H\n",
    "H_onset = np.zeros((len(diff_pitches)*2, X.shape[1]))\n",
    "# H_onset = np.zeros((len(diff_pitches)*2, X.shape[0]))\n",
    "for i in range(H_onset.shape[0]):\n",
    "    if i%2!=0 :\n",
    "        H_onset[i,:] = h_roll_new[i//2,:]\n",
    "    else:\n",
    "        H_onset[i,:] = temp_mat_new[i//2,:]\n",
    "\n",
    "plt.figure(figsize=(15,5))\n",
    "librosa.display.specshow(H_onset, x_axis='time',y_axis='frames', vmax=0.15, cmap='Blues')\n",
    "plt.ylabel('Note Number')\n",
    "plt.title('H with score and onset info')\n",
    "plt.xlabel('Time')"
   ]
  },
  {
   "cell_type": "code",
   "execution_count": null,
   "metadata": {},
   "outputs": [],
   "source": [
    "#####check this part, zoom in version\n",
    "per_bin = X.shape[1]/((len(x)/Fs))\n",
    "time_taken = 10\n",
    "idx_mat = []\n",
    "idx_mat_onset = []\n",
    "total_bin =np.int( np.around(per_bin*time_taken) )\n",
    "H_small_onset = np.zeros((16,total_bin))\n",
    "fr_size = np.around(np.int(1500*X.shape[0]/upper))\n",
    "W_small_onset = np.zeros((fr_size,16))\n",
    "pitches_ten_sec = [54,55,57,59,63,64,71,72]\n",
    "for i in range(len(pitches_ten_sec)):\n",
    "    idx_mat.append(diff_pitches.index(pitches_ten_sec[i]))  #[12, 13, 15, 17, 21, 22, 28, 29]\n",
    "for i in range(len(idx_mat)*2):\n",
    "    idx_mat_onset.append(diff_pitches.index(pitches_ten_sec[i//2]))\n",
    "    if i%2==0:\n",
    "        idx_mat_onset[i] = idx_mat_onset[i]*2   #[[24, 24, 26, 26, 30, 30, 34, 34, 42, 42, 44, 44, 56, 56, 58, 58]]\n",
    "    else:\n",
    "        idx_mat_onset[i] = idx_mat_onset[i]*2+1\n",
    "\n",
    "for i in range(16):\n",
    "    H_small_onset[i,:] = H_onset[idx_mat_onset[i],0:total_bin]\n",
    "    W_small_onset[:,i] = W_score_onsets[0:fr_size, idx_mat_onset[i]]\n",
    "\n",
    "upper_new_onset = (upper/X.shape[0])*W_small_onset.shape[0]\n",
    "right_new_onset = (right/X.shape[1])*H_small_onset.shape[1]"
   ]
  },
  {
   "cell_type": "code",
   "execution_count": null,
   "metadata": {
    "scrolled": false
   },
   "outputs": [],
   "source": [
    "fig = plt.figure(figsize=(15,5))\n",
    "pitches_ten_sec_onset = [54,54,55,55,57,57,59,59,63,63,64,64,71,71,72,72]\n",
    "ax = fig.add_subplot(1,2,1)\n",
    "librosa.display.specshow(W_small_onset, x_axis='frames', vmax=1, cmap='Blues',y_axis='linear', sr=upper_new_onset*2)\n",
    "plt.xticks(np.arange(0.5, len(pitches_ten_sec_onset)+0.5,1), pitches_ten_sec_onset)\n",
    "plt.ylabel('Hz')\n",
    "plt.yticks(np.arange(0.5, (1500)+0.5, 499),np.arange(0,2000,500))\n",
    "plt.title('W matrix with onset model')\n",
    "plt.xlabel('note number')\n",
    "plt.subplot(1,2,2)\n",
    "librosa.display.specshow(H_small_onset, x_axis='frames',y_axis='frames', vmax=1, cmap='Blues')\n",
    "plt.xticks(np.arange(0.5,H_small_onset.shape[1], np.int(np.around(2*H_small_onset.shape[1]/(right_new_onset)))), np.arange(0,np.around(right_new_onset+1),2))\n",
    "plt.yticks(np.arange(0.5, len(pitches_ten_sec_onset)+0.5,1), pitches_ten_sec_onset)\n",
    "plt.ylabel('note number')\n",
    "plt.title('H matrix with onset model')\n",
    "plt.xlabel('Time (s)')\n",
    "# plt.savefig('H_W_init_onset_chopin_small.png', bbox_inches='tight')"
   ]
  },
  {
   "cell_type": "code",
   "execution_count": null,
   "metadata": {},
   "outputs": [],
   "source": [
    "# #NMF with score and onset info\n",
    "# t = time.time()\n",
    "# V = np.abs(X)\n",
    "# R = 74\n",
    "# eps = 1\n",
    "# [W_onset_learnt, H_onset_learnt] = NMF_const_score(V,R,eps, W_score_onsets, H_onset)\n",
    "# elapsed = time.time()-t\n",
    "# print(\"Time elapsed (sec) :\", elapsed)"
   ]
  },
  {
   "cell_type": "code",
   "execution_count": null,
   "metadata": {},
   "outputs": [],
   "source": [
    "# #NMF with score and onset info\n",
    "# #numba for the same\n",
    "t = time.time()\n",
    "V = np.abs(X)\n",
    "R = 74\n",
    "eps = 10\n",
    "[W_onset_learnt, H_onset_learnt] = nu_NMF_const_score(V,R,eps, W_score_onsets, H_onset)\n",
    "elapsed = time.time()-t\n",
    "print(\"Time elapsed (sec) :\", elapsed)\n"
   ]
  },
  {
   "cell_type": "code",
   "execution_count": null,
   "metadata": {},
   "outputs": [],
   "source": []
  },
  {
   "cell_type": "code",
   "execution_count": null,
   "metadata": {},
   "outputs": [],
   "source": [
    "plt.figure(figsize=(15,5))\n",
    "plt.subplot(1,2,1)\n",
    "librosa.display.specshow(W_onset_learnt, y_axis='linear', x_axis='frames', vmax=0.5, cmap='Blues', sr=Fs, hop_length=H)\n",
    "# plt.xticks(np.arange(0.5, len(diff_pitches), 1), diff_pitches)\n",
    "plt.title('Learnt W')\n",
    "plt.xlabel('note number')\n",
    "plt.subplot(1,2,2)\n",
    "librosa.display.specshow(H_onset_learnt, x_axis='time',y_axis='frames', vmax=0.05, cmap='Blues')\n",
    "plt.title('Learnt H')\n",
    "plt.xlabel('Time (s)')\n",
    "# plt.yticks(np.arange(0.5, len(diff_pitches), 1), diff_pitches)\n",
    "plt.ylabel('note number')"
   ]
  },
  {
   "cell_type": "code",
   "execution_count": null,
   "metadata": {},
   "outputs": [],
   "source": [
    "####zoom in smaller matrices\n",
    "per_bin = X.shape[1]/((len(x)/Fs))\n",
    "time_taken = 10\n",
    "idx_mat = []\n",
    "idx_mat_onset = []\n",
    "total_bin =np.int( np.around(per_bin*time_taken) )\n",
    "H_small_onset_l = np.zeros((16,total_bin))\n",
    "\n",
    "fr_size = np.around(np.int(1500*X.shape[0]/upper))\n",
    "\n",
    "W_small_onset_l = np.zeros((fr_size,16))\n",
    "pitches_ten_sec = [54,55,57,59,63,64,71,72]\n",
    "for i in range(len(pitches_ten_sec)):\n",
    "    idx_mat.append(diff_pitches.index(pitches_ten_sec[i]))  #[12, 13, 15, 17, 21, 22, 28, 29]\n",
    "for i in range(len(idx_mat)*2):\n",
    "    idx_mat_onset.append(diff_pitches.index(pitches_ten_sec[i//2]))\n",
    "    if i%2==0:\n",
    "        idx_mat_onset[i] = idx_mat_onset[i]*2   #[[24, 24, 26, 26, 30, 30, 34, 34, 42, 42, 44, 44, 56, 56, 58, 58]]\n",
    "    else:\n",
    "        idx_mat_onset[i] = idx_mat_onset[i]*2+1\n",
    "for i in range(16):\n",
    "    H_small_onset_l[i,:] = H_onset_learnt[idx_mat_onset[i],0:total_bin]\n",
    "    W_small_onset_l[:,i] = W_onset_learnt[0:fr_size, idx_mat_onset[i]]\n",
    "\n",
    "upper_new_onset_l = (upper/X.shape[0])*W_small_onset_l.shape[0]\n",
    "right_new_onset_l = (right/X.shape[1])*H_small_onset_l.shape[1]"
   ]
  },
  {
   "cell_type": "code",
   "execution_count": null,
   "metadata": {
    "scrolled": false
   },
   "outputs": [],
   "source": [
    "fig = plt.figure(figsize=(15,5))\n",
    "pitches_ten_sec_onset = [54,54,55,55,57,57,59,59,63,63,64,64,71,71,72,72]\n",
    "ax = fig.add_subplot(1,2,1)\n",
    "librosa.display.specshow(W_small_onset_l, x_axis='frames', vmax=5, cmap='Blues', y_axis='linear', sr=2*upper_new_onset_l)\n",
    "plt.xticks(np.arange(0.5, len(pitches_ten_sec_onset)+0.5,1), pitches_ten_sec_onset)\n",
    "plt.title('W learnt (onset initialisation)')\n",
    "plt.yticks(np.arange(0.5, (1500)+0.5, 499),np.arange(0,2000,500))\n",
    "plt.ylabel('Hz')\n",
    "plt.xlabel('note number')\n",
    "plt.subplot(1,2,2)\n",
    "librosa.display.specshow(H_small_onset_l, x_axis='frames',y_axis='frames', vmax=1e-1, cmap='Blues')\n",
    "plt.xticks(np.arange(0.5,H_small_onset_l.shape[1], np.int(np.around(2*H_small_onset_l.shape[1]/(right_new_onset)))), np.arange(0,np.around(right_new_onset_l+1),2))\n",
    "plt.yticks(np.arange(0.5, len(pitches_ten_sec_onset)+0.5,1), pitches_ten_sec_onset)\n",
    "plt.ylabel('note number')\n",
    "plt.title('H learnt (onset initialisation)')\n",
    "plt.xlabel('Time (s)')\n",
    "\n",
    "# plt.savefig('H_W_learnt_onset_chopin_small.png', bbox_inches='tight')\n",
    "\n"
   ]
  },
  {
   "cell_type": "code",
   "execution_count": null,
   "metadata": {},
   "outputs": [],
   "source": [
    "\n",
    "#Reconstruction of the learnt matrices\n",
    "\n",
    "phase_ = np.angle(X)\n",
    "\n",
    "mask_total_num = np.dot(W_onset_learnt,H_onset_learnt)\n",
    "mask_total_dem = mask_total_num + np.finfo(float).eps\n",
    "mask_total = np.divide(mask_total_num, mask_total_dem)\n",
    "new_Y = np.multiply(Y, mask_total)\n",
    "V_total_recons = new_Y*np.exp(phase_, dtype='complex')\n",
    "total_aud_recons_2 = librosa.istft(np.sqrt(V_total_recons), win_length=N, hop_length=H)\n",
    "Audio(total_aud_recons_2, rate=Fs)"
   ]
  },
  {
   "cell_type": "code",
   "execution_count": null,
   "metadata": {},
   "outputs": [],
   "source": []
  },
  {
   "cell_type": "code",
   "execution_count": null,
   "metadata": {},
   "outputs": [],
   "source": [
    "####### LH - RH separation #######"
   ]
  },
  {
   "cell_type": "code",
   "execution_count": null,
   "metadata": {},
   "outputs": [],
   "source": [
    "##### Breaking learnt onset matrix in LH and RH using pitchR and pitchL variables\n",
    "H_left_broken = np.zeros((74, X.shape[1]))\n",
    "idx_onset = []  #should have indexes of left pitches from H_onset_learnt\n",
    "#Lidx should have the other indexes (time) for these pitches\n",
    "for i in range(len(pitchL)):\n",
    "    idx_onset.append(diff_pitches.index(pitchL[i])*2)\n",
    "for i in range(len(idx_onset)):\n",
    "    if i%2==0:\n",
    "        idx_onset[i] = idx_onset[i]+1        \n",
    "\n",
    "idx_onset_r = []  #should have indexes of right pitches from H_onset_learnt\n",
    "for i in range(len(pitchR)):\n",
    "    idx_onset_r.append(diff_pitches.index(pitchR[i])*2)\n",
    "for i in range(len(idx_onset_r)):\n",
    "    if i%2==0:\n",
    "        idx_onset_r[i] = idx_onset_r[i]+1"
   ]
  },
  {
   "cell_type": "code",
   "execution_count": null,
   "metadata": {},
   "outputs": [],
   "source": [
    "for i in range(len(idx_onset)):\n",
    "    H_left_broken[idx_onset[i], np.int(np.around((timeL_new[i//2]) * (Fs/np.float(H)))) : np.int(np.around((timeL_off[i//2]) * (Fs/np.float(H))))] = H_onset_learnt[idx_onset[i],np.int(np.around((timeL_new[i//2]) * (Fs/np.float(H)))) : np.int(np.around((timeL_off[i//2]) * (Fs/np.float(H)))) ]\n",
    "H_left_broken[34,0:10] = H_onset_learnt[34,0:10]\n",
    "plt.figure(figsize=(15,5))\n",
    "librosa.display.specshow(H_left_broken, x_axis='time',y_axis='frames', vmax=0.15, cmap='Blues')\n",
    "plt.title('Left hand learnt H matrix with onsets')\n",
    "plt.ylabel('components')\n",
    "plt.xlabel('Time')"
   ]
  },
  {
   "cell_type": "code",
   "execution_count": null,
   "metadata": {
    "scrolled": false
   },
   "outputs": [],
   "source": [
    "H_right_broken = np.zeros((74, X.shape[1]))\n",
    "for i in range(len(idx_onset_r)):\n",
    "    H_right_broken[idx_onset_r[i], np.int(np.around((timeR_new[i//2]) * (Fs/np.float(H)))) : np.int(np.around((timeR_off[i//2]) * (Fs/np.float(H))))] = H_onset_learnt[idx_onset_r[i],np.int(np.around((timeR_new[i//2]) * (Fs/np.float(H)))) : np.int(np.around((timeR_off[i//2]) * (Fs/np.float(H)))) ]\n",
    "plt.figure(figsize=(15,5))\n",
    "librosa.display.specshow(H_right_broken, x_axis='time',y_axis='frames', vmax=0.15, cmap='Blues')\n",
    "plt.title('Right hand learnt H matrix with onsets')\n",
    "plt.ylabel('components')\n",
    "plt.xlabel('Time')"
   ]
  },
  {
   "cell_type": "code",
   "execution_count": null,
   "metadata": {},
   "outputs": [],
   "source": [
    "#####Zoom in\n",
    "per_bin = X.shape[1]/((len(x)/Fs))\n",
    "time_taken = 10\n",
    "idx_mat = []\n",
    "idx_mat_onset = []\n",
    "fr_size = np.around(np.int(1500*X.shape[0]/upper))\n",
    "total_bin =np.int( np.around(per_bin*time_taken) )\n",
    "H_small_onset_l = np.zeros((16,total_bin))\n",
    "H_small_onset_r = np.zeros((16,total_bin))\n",
    "W_small_onset_l = np.zeros((fr_size,16))\n",
    "pitches_ten_sec = [54,55,57,59,63,64,71,72]\n",
    "for i in range(len(pitches_ten_sec)):\n",
    "    idx_mat.append(diff_pitches.index(pitches_ten_sec[i]))  #[12, 13, 15, 17, 21, 22, 28, 29]\n",
    "for i in range(len(idx_mat)*2):\n",
    "    idx_mat_onset.append(diff_pitches.index(pitches_ten_sec[i//2]))\n",
    "    if i%2==0:\n",
    "        idx_mat_onset[i] = idx_mat_onset[i]*2   #[[24, 24, 26, 26, 30, 30, 34, 34, 42, 42, 44, 44, 56, 56, 58, 58]]\n",
    "    else:\n",
    "        idx_mat_onset[i] = idx_mat_onset[i]*2+1\n",
    "\n",
    "for i in range(16):\n",
    "    H_small_onset_l[i,:] = H_left_broken[idx_mat_onset[i],0:total_bin]\n",
    "    H_small_onset_r[i,:] = H_right_broken[idx_mat_onset[i],0:total_bin]\n",
    "    W_small_onset_l[:,i] = W_onset_learnt[0:fr_size, idx_mat_onset[i]]\n",
    "\n",
    "upper_new_onset_l = (upper/X.shape[0])*W_small_onset_l.shape[0]\n",
    "right_new_onset_l = (right/X.shape[1])*H_small_onset_l.shape[1]\n",
    "\n",
    "fig = plt.figure(figsize=(15,5))\n",
    "pitches_ten_sec_onset = [54,54,55,55,57,57,59,59,63,63,64,64,71,71,72,72]\n",
    "ax = fig.add_subplot(1,2,1)\n",
    "librosa.display.specshow(H_small_onset_l, x_axis='frames',y_axis='frames', vmax=1e-2, cmap='Blues')\n",
    "plt.xticks(np.arange(0.5,H_small_onset_l.shape[1], np.int(np.around(2*H_small_onset_l.shape[1]/(right_new_onset)))), np.arange(0,np.around(right_new_onset_l+1),2))\n",
    "plt.yticks(np.arange(0.5, len(pitches_ten_sec_onset)+0.5,1), pitches_ten_sec_onset)\n",
    "plt.ylabel('note number')\n",
    "plt.xlabel('Time (s)')\n",
    "plt.title('Left hand H - learnt from onset model')\n",
    "plt.subplot(1,2,2)\n",
    "librosa.display.specshow(H_small_onset_r, x_axis='frames',y_axis='frames', vmax=1e-3, cmap='Blues')\n",
    "plt.xticks(np.arange(0.5,H_small_onset_r.shape[1], np.int(np.around(2*H_small_onset_r.shape[1]/(right_new_onset)))), np.arange(0,np.around(right_new_onset_l+1),2))\n",
    "plt.yticks(np.arange(0.5, len(pitches_ten_sec_onset)+0.5,1), pitches_ten_sec_onset)\n",
    "plt.ylabel('note number')\n",
    "plt.xlabel('Time (s)')\n",
    "plt.title('Right Hand H - learnt from onset model')\n",
    "# plt.savefig('H_W_LHRH_onset_chopin_small.png', bbox_inches='tight')"
   ]
  },
  {
   "cell_type": "code",
   "execution_count": null,
   "metadata": {},
   "outputs": [],
   "source": [
    "phase_ = np.angle(X)\n",
    "prod_mat_WHR = np.dot(W_onset_learnt,H_right_broken)  ## W.HR\n",
    "prod_mat_WHL = np.dot(W_onset_learnt,H_left_broken) ## W.HL\n"
   ]
  },
  {
   "cell_type": "code",
   "execution_count": null,
   "metadata": {},
   "outputs": [],
   "source": [
    "W_small_onset_l = np.zeros((fr_size,fr_size))\n",
    "W_small_onset_r = np.zeros((fr_size, fr_size))\n",
    "# for i in range(8):\n",
    "W_small_onset_r = prod_mat_WHR[0:fr_size,0:total_bin]\n",
    "W_small_onset_l = prod_mat_WHL[0:fr_size, 0:total_bin]\n",
    "\n",
    "plt.figure(figsize=(15,5))\n",
    "plt.subplot(1,2,1)\n",
    "plt.imshow(W_small_onset_l, extent=[0, 10, 0, upper_new_onset_l], vmax=0.1, cmap='Blues', aspect='auto', origin='lower')\n",
    "plt.xlabel('Time (s)')\n",
    "plt.ylabel('Hz')\n",
    "plt.yticks(np.arange(0.5, (1500)+0.5, 499),np.arange(0,2000,500))\n",
    "plt.title('Left hand mask product W.HL')\n",
    "plt.subplot(1,2,2)\n",
    "plt.imshow(W_small_onset_r, extent=[0, 10, 0, upper_new_onset_l], vmax=1e-3, cmap='Blues', aspect='auto', origin='lower')\n",
    "plt.xlabel('Time (s)')\n",
    "plt.yticks(np.arange(0.5, (1500)+0.5, 499),np.arange(0,2000,500))\n",
    "plt.ylabel('Hz')\n",
    "plt.title('Right hand mask product W.HR')\n",
    "# plt.savefig('H_W_LHRH_product_onset_chopin_small.png', bbox_inches='tight')\n",
    "\n"
   ]
  },
  {
   "cell_type": "code",
   "execution_count": null,
   "metadata": {},
   "outputs": [],
   "source": [
    "phase_ = np.angle(X)\n",
    "mask_total_dem = np.dot(W_onset_learnt,H_onset_learnt) + np.finfo(float).eps\n",
    "# mask_total_dem = np.dot(W_onset_learnt,H_onset_learnt) + 1\n",
    "\n",
    "mask_totalL = np.divide(prod_mat_WHL, mask_total_dem)\n",
    "mask_totalR = np.divide(prod_mat_WHR, mask_total_dem)\n",
    "\n",
    "mask_small_r = np.zeros((total_bin,total_bin))\n",
    "mask_small_l = np.zeros((total_bin, total_bin))\n",
    "mask_small_r = mask_totalR[0:total_bin,0:total_bin]\n",
    "mask_small_l = mask_totalL[0:total_bin, 0:total_bin]\n",
    "\n",
    "plt.figure(figsize=(15,5))\n",
    "plt.subplot(1,2,1)\n",
    "plt.imshow(mask_small_l, extent=[0, 10, 0, upper_new_onset_l], vmax=5, cmap='Blues', aspect='auto', origin='lower')\n",
    "plt.xlabel('Time (s)')\n",
    "plt.yticks(np.arange(0.5, (1500)+0.5, 499),np.arange(0,2000,500))\n",
    "plt.ylabel('Hz')\n",
    "plt.title('Left hand Mask')\n",
    "plt.subplot(1,2,2)\n",
    "plt.imshow(mask_small_r, extent=[0, 10, 0, upper_new_onset_l], vmax=5, cmap='Blues', aspect='auto', origin='lower')\n",
    "plt.xlabel('Time (s)')\n",
    "plt.yticks(np.arange(0.5, (1500)+0.5, 499),np.arange(0,2000,500))\n",
    "plt.ylabel('Hz')\n",
    "plt.title('Right hand Mask')\n",
    "# plt.savefig('H_W_masks_chopin_small.png', bbox_inches='tight')"
   ]
  },
  {
   "cell_type": "code",
   "execution_count": null,
   "metadata": {},
   "outputs": [],
   "source": [
    "left_hand = np.multiply(Y, mask_totalL)\n",
    "right_hand = np.multiply(Y, mask_totalR)\n",
    "\n",
    "left_recons = left_hand\n",
    "left_audio = librosa.istft(np.sqrt(left_recons)*np.exp(phase_, dtype='complex'), win_length=N, hop_length=H)\n",
    "\n",
    "right_recons = right_hand\n",
    "right_audio = librosa.istft(np.sqrt(right_recons)*np.exp(phase_, dtype='complex'), win_length=N, hop_length=H)"
   ]
  },
  {
   "cell_type": "code",
   "execution_count": null,
   "metadata": {},
   "outputs": [],
   "source": [
    "Audio(x, rate=Fs)"
   ]
  },
  {
   "cell_type": "code",
   "execution_count": null,
   "metadata": {},
   "outputs": [],
   "source": [
    "Audio(left_audio, rate=Fs)"
   ]
  },
  {
   "cell_type": "code",
   "execution_count": null,
   "metadata": {},
   "outputs": [],
   "source": [
    "Audio(right_audio, rate=Fs)"
   ]
  },
  {
   "cell_type": "code",
   "execution_count": null,
   "metadata": {},
   "outputs": [],
   "source": []
  },
  {
   "cell_type": "code",
   "execution_count": null,
   "metadata": {},
   "outputs": [],
   "source": [
    "# plt.figure(figsize=(15,5))\n",
    "# plt.subplot(121)\n",
    "# librosa.display.specshow(left_hand, vmax=1e-1, cmap='Blues',y_axis='log', x_axis='time', sr=Fs, hop_length=H)\n",
    "# plt.xlabel('Time')\n",
    "# plt.ylabel('Hz (log scale)')\n",
    "# plt.subplot(122)\n",
    "# librosa.display.specshow(right_hand, vmax=1e-1, cmap='Blues',y_axis='log', x_axis='time', sr=Fs, hop_length=H)\n",
    "# plt.xlabel('Time')\n",
    "# plt.ylabel('Hz (log scale)')\n",
    "# # plt.savefig('Chopin_left_right_specs.png',bbox_inches='tight')"
   ]
  },
  {
   "cell_type": "code",
   "execution_count": null,
   "metadata": {},
   "outputs": [],
   "source": [
    "# out = np.zeros((right_audio.shape[0], 2))\n",
    "# out[:,0] = left_audio\n",
    "# out[:,1] = right_audio\n",
    "# librosa.output.write_wav('chopin_comboTest.wav', out, sr=Fs/2, norm=True)\n",
    "# out[:,0] = left_audio\n",
    "# out[:,1] = right_audio\n",
    "# librosa.output.write_wav('chopin_left220419.wav', out, sr=Fs, norm=True)\n",
    "# out[:,0] = left_audio\n",
    "# out[:,1] = right_audio\n",
    "# librosa.output.write_wav('chopin_right220419.wav', out, sr=Fs, norm=True)\n"
   ]
  }
 ],
 "metadata": {
  "anaconda-cloud": {},
  "kernelspec": {
   "display_name": "Python 3",
   "language": "python",
   "name": "python3"
  },
  "language_info": {
   "codemirror_mode": {
    "name": "ipython",
    "version": 3
   },
   "file_extension": ".py",
   "mimetype": "text/x-python",
   "name": "python",
   "nbconvert_exporter": "python",
   "pygments_lexer": "ipython3",
   "version": "3.6.7"
  }
 },
 "nbformat": 4,
 "nbformat_minor": 1
}
