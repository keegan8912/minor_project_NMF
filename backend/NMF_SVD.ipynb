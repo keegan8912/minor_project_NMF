{
 "cells": [
  {
   "cell_type": "code",
   "execution_count": null,
   "metadata": {},
   "outputs": [],
   "source": [
    "#Basic NMF - random initialisations"
   ]
  },
  {
   "cell_type": "code",
   "execution_count": null,
   "metadata": {},
   "outputs": [],
   "source": [
    "#runs the library file common_init_ which contains the initialisations for common functions and libraries\n",
    "%run common_init_"
   ]
  },
  {
   "cell_type": "code",
   "execution_count": null,
   "metadata": {},
   "outputs": [],
   "source": [
    "#reading audio file for NMF\n",
    "x, Fs = sf.read('FMP_C2_F10.wav')\n",
    "# Audio(x, rate=Fs)"
   ]
  },
  {
   "cell_type": "code",
   "execution_count": null,
   "metadata": {},
   "outputs": [],
   "source": [
    "#Taking default window size 4096 and hop size 512\n",
    "N = 4096\n",
    "H = 512\n",
    "w = np.hanning(N)\n",
    "X = librosa.core.stft(x,n_fft=N,hop_length=H, window=w)\n",
    "print(\"Shape of X is :\", X.shape)\n",
    "Y = np.abs(X)**2\n",
    "print(\"Shape of Y is :\", Y.shape)"
   ]
  },
  {
   "cell_type": "code",
   "execution_count": null,
   "metadata": {},
   "outputs": [],
   "source": [
    "#setting seed for random operations\n",
    "np.random.seed(0)"
   ]
  },
  {
   "cell_type": "code",
   "execution_count": null,
   "metadata": {},
   "outputs": [],
   "source": [
    "# For NMF, we break up V ~ W.H, so here, Y serves as the matrix V\n",
    "t = time.time()\n",
    "V = Y\n",
    "# V = np.abs(X)\n",
    "R = 8\n",
    "eps = 1\n",
    "W_, H_, W_ret = NMF(V,R,eps)\n",
    "elapsed = time.time()-t\n",
    "print(\"Time elapsed (sec) :\", elapsed)"
   ]
  },
  {
   "cell_type": "code",
   "execution_count": null,
   "metadata": {},
   "outputs": [],
   "source": [
    "# ###numba\n",
    "# t = time.time()\n",
    "# V = Y\n",
    "# R = 8   \n",
    "# eps = 1\n",
    "# W_, H_ = nu_NMF(V,R,eps)\n",
    "# elapsed = time.time()-t\n",
    "# print(\"Time elapsed (sec) :\", elapsed)"
   ]
  },
  {
   "cell_type": "code",
   "execution_count": null,
   "metadata": {},
   "outputs": [],
   "source": [
    "T_coef = np.arange(X.shape[1]) * H / Fs\n",
    "F_coef = np.arange(X.shape[0]) * Fs / N\n",
    "duration = (len(x)//Fs) + 1\n",
    "#left, right, lower and upper bounds for the plots\n",
    "left = min(T_coef)\n",
    "right = max(T_coef) + N / Fs\n",
    "lower = min(F_coef)\n",
    "upper = max(F_coef)\n",
    "ratio_ = (upper/X.shape[0])"
   ]
  },
  {
   "cell_type": "code",
   "execution_count": null,
   "metadata": {},
   "outputs": [],
   "source": [
    "#Plotting W and H matrices after random NMF\n",
    "plt.figure(figsize=(15,5))\n",
    "plt.subplot(1,2,1)\n",
    "librosa.display.specshow(W_, y_axis='log', x_axis='frames', vmax=1, cmap='Blues', sr=Fs, hop_length=H)\n",
    "plt.xticks(np.arange(0.5, R+0.5,1), np.arange(0,R,1))\n",
    "plt.xlabel('components')\n",
    "plt.title('W learnt randomly')\n",
    "\n",
    "\n",
    "plt.subplot(1,2,2)\n",
    "librosa.display.specshow(H_, x_axis='time',y_axis='frames', vmax=1e2, cmap='Blues', sr=Fs, hop_length=H)\n",
    "plt.ylabel('components')\n",
    "plt.yticks(np.arange(0.5, R+0.5,1), np.arange(0,R,1))\n",
    "plt.title('H learnt randomly')\n",
    "\n",
    "# plt.savefig('Cmaj_random_init_learnt.png', bbox_inches='tight')"
   ]
  },
  {
   "cell_type": "code",
   "execution_count": null,
   "metadata": {},
   "outputs": [],
   "source": [
    "X_mat = np.abs(X)\n",
    "u,s,vh = np.linalg.svd(X,full_matrices=True)\n",
    "W = np.abs(u[:,0:8])\n",
    "H = np.transpose(np.abs(vh[:,0:8]))"
   ]
  },
  {
   "cell_type": "code",
   "execution_count": null,
   "metadata": {},
   "outputs": [],
   "source": [
    "## Same NMF function, just limiting the iteration counts, input is SVD matrix\n",
    "\n",
    "def NMF_const12345(V, R, eps, W_prime, H_prime):\n",
    "    (K, N) = V.shape\n",
    "    print(\"Shape of V is (K x N) : \", K, N)\n",
    "    W_temp = np.zeros((K, R), dtype=np.float64)\n",
    "    H_temp = np.zeros((R,N), dtype=np.float64)\n",
    "    W = np.reshape(W_prime, (K,R))\n",
    "    np.random.seed(0)\n",
    "    H = H_prime\n",
    "    eps_test_H = np.inf\n",
    "    eps_test_W = np.inf\n",
    "    H_dist = []\n",
    "    W_dist = []\n",
    "    iter_ = 0\n",
    "    run = True\n",
    "    while(iter_<100):\n",
    "\n",
    "#[1 0 0]\n",
    "#[0 1 0]\n",
    "#[0 0 1]\n",
    "\n",
    "        temp_1 = np.dot(np.transpose(W),V)\n",
    "        temp_2 = np.dot(np.dot(np.transpose(W),W), H) + np.finfo(float).eps\n",
    "        H_temp = np.multiply(H, np.nan_to_num(np.divide(temp_1,temp_2)))\n",
    "        #H_temp = np.nan_to_num(H_temp)\n",
    "        temp_3 = np.dot(V,np.transpose(H_temp))\n",
    "        temp_4 = np.dot(np.dot(W,H_temp),np.transpose(H_temp)) + np.finfo(float).eps\n",
    "        W_temp = np.multiply(W, np.nan_to_num(np.divide(temp_3, temp_4)))\n",
    "        W_temp = np.nan_to_num(W_temp)\n",
    "\n",
    "#         eps_test_H = np.linalg.norm(H-H_temp)\n",
    "#         eps_test_W = np.linalg.norm(W-W_temp)\n",
    "#         H_dist = np.append(H_dist, eps_test_H)\n",
    "#         W_dist = np.append(W_dist, eps_test_W)\n",
    "        H = H_temp\n",
    "        W = W_temp\n",
    "        iter_ = iter_ + 1\n",
    "#         if (eps_test_H < eps) and (eps_test_W < eps):\n",
    "#             run = False\n",
    "#         if(iter_ > 4000):\n",
    "#             print('broken')\n",
    "#             print(eps_test_W, eps_test_H)\n",
    "#             break\n",
    "\n",
    "#     print(\"Error in H is :\", eps_test_W)\n",
    "#     print(\"Error in W is :\", eps_test_H)\n",
    "    print(\"Number of interations :\", iter_)\n",
    "    return W, H\n",
    "\n"
   ]
  },
  {
   "cell_type": "code",
   "execution_count": null,
   "metadata": {},
   "outputs": [],
   "source": [
    "#Plotting W and H matrices after random NMF\n",
    "plt.figure(figsize=(15,5))\n",
    "plt.subplot(1,2,1)\n",
    "librosa.display.specshow(W, y_axis='log', x_axis='frames', vmax=0.25, cmap='Blues', sr=Fs, hop_length=H)\n",
    "plt.xticks(np.arange(0.5, R+0.5,1), np.arange(0,R,1))\n",
    "plt.xlabel('components')\n",
    "plt.ylabel('Hz (log scale)')\n",
    "plt.title('W initialised with SVD')\n",
    "\n",
    "\n",
    "plt.subplot(1,2,2)\n",
    "librosa.display.specshow(H, x_axis='time',y_axis='frames', vmax=0.15, cmap='Blues')\n",
    "plt.ylabel('components')\n",
    "plt.xlabel('Time (s)')\n",
    "plt.yticks(np.arange(0.5, 8+0.5,1), np.arange(0,8,1))\n",
    "plt.title('H initialised with SVD')\n",
    "\n",
    "# plt.savefig('Cmaj_both_init_SVD_init.png', bbox_inches='tight')"
   ]
  },
  {
   "cell_type": "code",
   "execution_count": null,
   "metadata": {
    "scrolled": false
   },
   "outputs": [],
   "source": [
    "# For NMF, we break up V ~ W.H, so here, Y serves as the matrix V\n",
    "t = time.time()\n",
    "# V = X\n",
    "V = X_mat\n",
    "R = 8\n",
    "eps = 1\n",
    "#Here H is init by score informed method, W is still the harmonic informed, no  onsets yet\n",
    "[W_score, H_score] = NMF_const12345(V,R,eps, W, H)\n",
    "elapsed = time.time()-t\n",
    "print(\"Time elapsed (sec) :\", elapsed)"
   ]
  },
  {
   "cell_type": "code",
   "execution_count": null,
   "metadata": {},
   "outputs": [],
   "source": [
    "recons_Y = np.dot(W_score, H_score)\n",
    "np.linalg.norm(Y-recons_Y)"
   ]
  },
  {
   "cell_type": "code",
   "execution_count": null,
   "metadata": {},
   "outputs": [],
   "source": [
    "################### second part ################\n",
    "#This part has the randomly initialized NMF for example 'Gravity'"
   ]
  },
  {
   "cell_type": "code",
   "execution_count": null,
   "metadata": {},
   "outputs": [],
   "source": [
    "x2, Fs2 = sf.read('gravity_intro.wav')\n",
    "x2 = x2.astype(float)\n",
    "x2 = x2.sum(axis=1) / 2\n",
    "\n",
    "Audio(x2, rate=Fs2)"
   ]
  },
  {
   "cell_type": "code",
   "execution_count": null,
   "metadata": {},
   "outputs": [],
   "source": [
    "#Repeat for intro wav file\n",
    "#Here default window size is 8820 and hop length 2230\n",
    "N = 8820\n",
    "H = 2230\n",
    "#H = 512\n",
    "w = np.hanning(N)\n",
    "X2 = librosa.core.stft(x2,n_fft=N,hop_length=H, window=w)\n",
    "print(\"Shape of X is :\", X2.shape)\n",
    "Y2 = np.abs(X2)**2\n",
    "print(\"Shape of Y is :\", Y2.shape)"
   ]
  },
  {
   "cell_type": "code",
   "execution_count": null,
   "metadata": {},
   "outputs": [],
   "source": [
    "t = time.time()\n",
    "V2 = Y2\n",
    "R2 = 15\n",
    "eps = 1\n",
    "W_2, H_2, W_ret2 = NMF(V2,R2,eps)\n",
    "elapsed = time.time()-t\n",
    "print(\"Time elapsed (sec) :\", elapsed)"
   ]
  },
  {
   "cell_type": "code",
   "execution_count": null,
   "metadata": {},
   "outputs": [],
   "source": [
    "# #Numba\n",
    "# t = time.time()\n",
    "# V2 = Y2\n",
    "# R2 = 15\n",
    "# eps = 1\n",
    "# W_2, H_2 = nu_NMF(V2,R2,eps)\n",
    "# elapsed = time.time()-t\n",
    "# print(\"Time elapsed (sec) :\", elapsed)"
   ]
  },
  {
   "cell_type": "code",
   "execution_count": null,
   "metadata": {},
   "outputs": [],
   "source": [
    "plt.figure(figsize=(15,5))\n",
    "plt.subplot(1,2,1)\n",
    "librosa.display.specshow(np.random.rand(X2.shape[1], R2), y_axis='linear', x_axis='frames', vmax=2, cmap='Blues', sr=Fs2, hop_length=H)\n",
    "plt.xlabel('components')\n",
    "plt.xticks(np.arange(0.5, R2+0.5,1), np.arange(0,R2,1))\n",
    "plt.title('W randomly initialized')\n",
    "plt.subplot(1,2,2)\n",
    "librosa.display.specshow(np.random.rand(R2,X2.shape[1]), x_axis='time',y_axis='frames', vmax=2, cmap='Blues', sr=Fs2, hop_length=H)\n",
    "plt.ylabel('components')\n",
    "plt.yticks(np.arange(0.5, R2+0.5,1), np.arange(0,R2,1))\n",
    "plt.title('H randomly initialized')\n",
    "\n",
    "# plt.savefig('Gravity_random_init.png', bbox_inches='tight')\n"
   ]
  },
  {
   "cell_type": "code",
   "execution_count": null,
   "metadata": {},
   "outputs": [],
   "source": [
    "plt.figure(figsize=(15,5))\n",
    "plt.subplot(1,2,1)\n",
    "librosa.display.specshow(W_2, y_axis='linear', x_axis='frames', vmax=0.01, cmap='Blues', sr=Fs2, hop_length=H)\n",
    "plt.xlabel('components')\n",
    "plt.xticks(np.arange(0.5, R2+0.5,1), np.arange(0,R2,1))\n",
    "plt.title('W learnt randomly')\n",
    "plt.subplot(1,2,2)\n",
    "librosa.display.specshow(H_2, x_axis='time',y_axis='frames', vmax=1, cmap='Blues', sr=Fs2, hop_length=H)\n",
    "plt.ylabel('components')\n",
    "plt.yticks(np.arange(0.5, R2+0.5,1), np.arange(0,R2,1))\n",
    "plt.title('H learnt randomly')\n",
    "\n",
    "\n",
    "# plt.savefig('Gravity_random_init_learnt.png', bbox_inches='tight')"
   ]
  },
  {
   "cell_type": "code",
   "execution_count": null,
   "metadata": {},
   "outputs": [],
   "source": [
    "phase_2 = np.angle(X2)\n",
    "V_recons2 = np.dot(W_2,H_2)*np.exp(phase_2, dtype='complex')\n",
    "intro_ = librosa.istft(X2, win_length=N, hop_length=H)\n",
    "intro_recons = librosa.istft(V_recons2, win_length=N, hop_length=H)"
   ]
  },
  {
   "cell_type": "code",
   "execution_count": null,
   "metadata": {},
   "outputs": [],
   "source": [
    "Audio(intro_recons, rate=Fs2)"
   ]
  },
  {
   "cell_type": "code",
   "execution_count": null,
   "metadata": {},
   "outputs": [],
   "source": [
    "mask_total_num = np.dot(W_2, H_2)\n",
    "mask_total_dem = mask_total_num + np.finfo(float).eps\n",
    "mask_total = np.divide(mask_total_num, mask_total_dem)\n",
    "new_Y2 = np.multiply(Y2, mask_total)"
   ]
  },
  {
   "cell_type": "code",
   "execution_count": null,
   "metadata": {},
   "outputs": [],
   "source": [
    "phase_2 = np.angle(X2)\n",
    "V_total_recons2 = new_Y2*np.exp(phase_2, dtype='complex')\n",
    "total_aud_recons = librosa.istft(np.sqrt(V_total_recons2), win_length=N, hop_length=H)"
   ]
  },
  {
   "cell_type": "code",
   "execution_count": null,
   "metadata": {},
   "outputs": [],
   "source": [
    "Audio(total_aud_recons, rate=Fs2)"
   ]
  },
  {
   "cell_type": "code",
   "execution_count": null,
   "metadata": {},
   "outputs": [],
   "source": [
    "X_mat = np.abs(X2)\n",
    "u,s,vh = np.linalg.svd(X_mat,full_matrices=True)\n",
    "W = np.abs(u[:,0:15])\n",
    "H = np.transpose(np.abs(vh[:,0:15]))"
   ]
  },
  {
   "cell_type": "code",
   "execution_count": null,
   "metadata": {},
   "outputs": [],
   "source": [
    "# For NMF, we break up V ~ W.H, so here, Y serves as the matrix V\n",
    "t = time.time()\n",
    "#V = Y\n",
    "V = X_mat\n",
    "R = 15\n",
    "eps = 1\n",
    "#Here H is init by score informed method, W is still the harmonic informed, no  onsets yet\n",
    "[W_score2, H_score2] = NMF_const_score(V,R,eps, W, H)\n",
    "elapsed = time.time()-t\n",
    "print(\"Time elapsed (sec) :\", elapsed)"
   ]
  },
  {
   "cell_type": "code",
   "execution_count": null,
   "metadata": {},
   "outputs": [],
   "source": [
    "# For NMF, we break up V ~ W.H, so here, Y serves as the matrix V\n",
    "t = time.time()\n",
    "#V = Y\n",
    "V = X_mat\n",
    "R = 15\n",
    "eps = 1\n",
    "#Here H is init by score informed method, W is still the harmonic informed, no  onsets yet\n",
    "[W_score2, H_score2] = NMF_const12345(V,R,eps, W, H)\n",
    "elapsed = time.time()-t\n",
    "print(\"Time elapsed (sec) :\", elapsed)"
   ]
  },
  {
   "cell_type": "code",
   "execution_count": null,
   "metadata": {},
   "outputs": [],
   "source": [
    "recons_Y = np.dot(W_score2,H_score2)\n",
    "np.linalg.norm(Y2-recons_Y)"
   ]
  },
  {
   "cell_type": "code",
   "execution_count": null,
   "metadata": {},
   "outputs": [],
   "source": []
  },
  {
   "cell_type": "code",
   "execution_count": null,
   "metadata": {},
   "outputs": [],
   "source": []
  },
  {
   "cell_type": "code",
   "execution_count": null,
   "metadata": {},
   "outputs": [],
   "source": []
  },
  {
   "cell_type": "code",
   "execution_count": null,
   "metadata": {},
   "outputs": [],
   "source": []
  }
 ],
 "metadata": {
  "anaconda-cloud": {},
  "kernelspec": {
   "display_name": "Python 3",
   "language": "python",
   "name": "python3"
  },
  "language_info": {
   "codemirror_mode": {
    "name": "ipython",
    "version": 3
   },
   "file_extension": ".py",
   "mimetype": "text/x-python",
   "name": "python",
   "nbconvert_exporter": "python",
   "pygments_lexer": "ipython3",
   "version": "3.7.1"
  }
 },
 "nbformat": 4,
 "nbformat_minor": 1
}
