{
 "cells": [
  {
   "cell_type": "code",
   "execution_count": null,
   "metadata": {},
   "outputs": [],
   "source": [
    "#NMF score informed initialisation for Cmajor example"
   ]
  },
  {
   "cell_type": "code",
   "execution_count": null,
   "metadata": {},
   "outputs": [],
   "source": [
    "%run common_init_.py"
   ]
  },
  {
   "cell_type": "code",
   "execution_count": null,
   "metadata": {},
   "outputs": [],
   "source": [
    "x, Fs = sf.read('FMP_C2_F10.wav')\n",
    "Audio(x, rate=Fs)"
   ]
  },
  {
   "cell_type": "code",
   "execution_count": null,
   "metadata": {},
   "outputs": [],
   "source": [
    "N = 4096\n",
    "#H = 1024\n",
    "H = 512\n",
    "w = np.hanning(N)\n",
    "X = librosa.core.stft(x,n_fft=N,hop_length=H, window=w)\n",
    "print(\"Shape of X is :\", X.shape)\n",
    "Y = np.abs(X)**2\n",
    "print(\"Shape of Y is :\", Y.shape)"
   ]
  },
  {
   "cell_type": "code",
   "execution_count": null,
   "metadata": {},
   "outputs": [],
   "source": [
    "#rank 8 chosen by default\n",
    "W_prime = np.zeros((X.shape[0], 8))\n",
    "W_prime_learnt = np.zeros((X.shape[0], 8))\n",
    "H_prime = np.zeros((8, X.shape[1]))\n",
    "H_prime_learnt = np.zeros((8, X.shape[1]))"
   ]
  },
  {
   "cell_type": "code",
   "execution_count": null,
   "metadata": {},
   "outputs": [],
   "source": [
    "T_coef = np.arange(X.shape[1]) * H / Fs\n",
    "F_coef = np.arange(X.shape[0]) * Fs / N\n",
    "duration = (len(x)//Fs) + 1\n",
    "left = min(T_coef)\n",
    "right = max(T_coef) + N / Fs\n",
    "lower = min(F_coef)\n",
    "upper = max(F_coef)\n",
    "ratio_ = (upper/X.shape[0])"
   ]
  },
  {
   "cell_type": "code",
   "execution_count": null,
   "metadata": {},
   "outputs": [],
   "source": [
    "p = pandas.read_csv('annotation_time.csv', names=['timeIdx', 'note'])\n",
    "timeIdx = []\n",
    "for i in range(len(p.note)):\n",
    "    timeIdx.append(p.timeIdx[i])"
   ]
  },
  {
   "cell_type": "code",
   "execution_count": null,
   "metadata": {},
   "outputs": [],
   "source": [
    "#creating template constraint matrix W and score informed matrix H\n",
    "W_prime = np.zeros((X.shape[0], 8))\n",
    "#list of frequencies of C major scale\n",
    "cord_high = [261.626, 293.665, 329.628, 349.228, 391.995, 440, 493.883, 523.251]\n",
    "cord3 = [130.813, 146.8325, 164.814, 174.614, 195.995, 220, 246.941, 261.625]\n",
    "for i in range(W_prime.shape[1]):\n",
    "    temp1 = cord_high[i]\n",
    "    for p in range(1,23):\n",
    "        temp_cord = np.int(np.around((temp1*p)/ratio_))\n",
    "        W_prime[temp_cord-2:temp_cord+(2*p), i] = 1\n",
    "\n",
    "temp_H_score = np.zeros((H_prime_learnt.shape[0], H_prime_learnt.shape[1]))\n",
    "for i in range(0,len(timeIdx)-1):\n",
    "    temp_H_score[i,np.int(np.around(timeIdx[i]*43)):np.int(np.around(timeIdx[i+1]*43))-1] = 1\n",
    "temp_H_score[7,np.int(np.around(timeIdx[7]*43)):] = 1\n",
    "plt.figure(figsize=(15,5))\n",
    "plt.subplot(1,2,1)\n",
    "librosa.display.specshow(W_prime, y_axis='linear', x_axis = 'frames', vmax=0.005, cmap='Blues', sr=Fs, hop_length=H)\n",
    "plt.xlabel('components')\n",
    "plt.xticks(np.arange(0.5, 8+0.5,1), np.arange(0,8,1))\n",
    "plt.title('harmonic initialised W ')\n",
    "plt.subplot(1,2,2)\n",
    "librosa.display.specshow(temp_H_score, x_axis='time', y_axis='frames', cmap='Blues', sr=Fs, hop_length=H)\n",
    "plt.ylabel('components')\n",
    "plt.xlabel('Time (s)')\n",
    "plt.yticks(np.arange(0.5, 8+0.5,1), np.arange(0,8,1))\n",
    "plt.title('score initialised H')\n",
    "\n",
    "# plt.savefig('W_H_init_score.png', bbox_inches='tight')"
   ]
  },
  {
   "cell_type": "code",
   "execution_count": null,
   "metadata": {},
   "outputs": [],
   "source": [
    "# For NMF, we break up V ~ W.H, so here, Y serves as the matrix V\n",
    "t = time.time()\n",
    "# V = Y\n",
    "V = np.abs(X)\n",
    "R = 8\n",
    "eps = 1\n",
    "#Here H is init by score informed method, W is still the harmonic informed, no  onsets yet\n",
    "[W_score, H_score] = NMF_const_score(V,R,eps, W_prime, temp_H_score)\n",
    "elapsed = time.time()-t\n",
    "print(\"Time elapsed (sec) :\", elapsed)"
   ]
  },
  {
   "cell_type": "code",
   "execution_count": null,
   "metadata": {},
   "outputs": [],
   "source": [
    "#Numba\n",
    "t = time.time()\n",
    "# V = Y\n",
    "V = np.abs(X)\n",
    "R = 8\n",
    "eps = 1\n",
    "#Here H is init by score informed method, W is still the harmonic informed, no  onsets yet\n",
    "[W_score, H_score] = nu_NMF_const_score(V,R,eps, W_prime, temp_H_score)\n",
    "elapsed = time.time()-t\n",
    "print(\"Time elapsed (sec) :\", elapsed)"
   ]
  },
  {
   "cell_type": "code",
   "execution_count": null,
   "metadata": {},
   "outputs": [],
   "source": [
    "plt.figure(figsize=(15,5))\n",
    "plt.subplot(1,2,1)\n",
    "librosa.display.specshow(W_score, y_axis='linear', x_axis = 'frames', vmax=1, cmap='Blues', sr=Fs, hop_length=H)\n",
    "plt.xlabel('components')\n",
    "plt.xticks(np.arange(0.5, 8+0.5,1), np.arange(0,8,1))\n",
    "plt.title('W learnt (harmonically init)')\n",
    "plt.subplot(1,2,2)\n",
    "librosa.display.specshow(H_score, x_axis='time', y_axis='frames', vmax=1, cmap='Blues',  sr=Fs, hop_length=H)\n",
    "plt.ylabel('components')\n",
    "plt.xlabel('Time (s)')\n",
    "plt.yticks(np.arange(0.5, 8+0.5,1), np.arange(0,8,1))\n",
    "plt.title('H learnt (score informed init)')\n",
    "plt.savefig('learnt_W_H_score_init.png', bbox_inches='tight')\n",
    "\n",
    "plt.figure(figsize=(15,5))\n",
    "plt.subplot(1,2,1)\n",
    "librosa.display.specshow(W_score, y_axis='log', x_axis = 'frames', vmax=1, cmap='Blues', sr=Fs, hop_length=H)\n",
    "plt.xlabel('components')\n",
    "plt.ylabel('Hz (log scale)')\n",
    "plt.xticks(np.arange(0.5, 8+0.5,1), np.arange(0,8,1))\n",
    "plt.title('W learnt (harmonically init)')\n",
    "plt.subplot(1,2,2)\n",
    "librosa.display.specshow(H_score, x_axis='time', y_axis='frames', vmax=1, cmap='Blues',  sr=Fs, hop_length=H)\n",
    "plt.ylabel('components')\n",
    "plt.xlabel('Time (s)')\n",
    "plt.yticks(np.arange(0.5, 8+0.5,1), np.arange(0,8,1))\n",
    "plt.title('H learnt (score informed init)')\n",
    "# plt.savefig('learnt_W_H_score_init_log.png', bbox_inches='tight')"
   ]
  },
  {
   "cell_type": "code",
   "execution_count": null,
   "metadata": {},
   "outputs": [],
   "source": [
    "phase_ = np.angle(X)\n",
    "masked_recons = np.divide(np.dot(W_score,H_score), np.dot(W_score,H_score) + np.finfo(float).eps )\n",
    "V_recons_score = np.multiply(Y,masked_recons)*np.exp(phase_, dtype='complex')\n",
    "y5 = librosa.istft(np.sqrt(V_recons_score), win_length=N, hop_length=H, length=len(x))"
   ]
  },
  {
   "cell_type": "code",
   "execution_count": null,
   "metadata": {},
   "outputs": [],
   "source": [
    "Audio(y5, rate=Fs)  #score informed"
   ]
  },
  {
   "cell_type": "code",
   "execution_count": null,
   "metadata": {},
   "outputs": [],
   "source": [
    "###onset model####\n",
    "#Here onsets are added to W matrix and H matrix"
   ]
  },
  {
   "cell_type": "code",
   "execution_count": null,
   "metadata": {},
   "outputs": [],
   "source": [
    "#rank 8 chosen by default, doubled here to accomodate onset columns\n",
    "W_score_onsets = np.zeros((X.shape[0], 16))\n",
    "\n",
    "cord_high = [261.626, 293.665, 329.628, 349.228, 391.995, 440, 493.883, 523.251]\n",
    "for i in range(W_score_onsets.shape[1]):\n",
    "    temp1 = cord_high[i//2]\n",
    "    if i%2==0:\n",
    "        W_score_onsets[:, i] = 0.25  #np.finfo(float).eps\n",
    "    else:\n",
    "        for p in range(1,20):\n",
    "            temp_cord = np.int(np.around((temp1*p)/ratio_))\n",
    "            W_score_onsets[temp_cord-2:temp_cord+(2*p), i] = 1/np.float(p)\n",
    "            \n",
    "plt.figure(figsize=(15, 5))\n",
    "plt.subplot(1, 2, 1)\n",
    "plt.title('Harmonically initialised W')\n",
    "librosa.display.specshow(W_prime, y_axis='linear', x_axis='frames', vmax=0.5, cmap='Blues', sr=Fs, hop_length=H)\n",
    "plt.xticks(np.arange(0.5, 8+0.5,1), np.arange(0,8,1))\n",
    "plt.xlabel('components')\n",
    "plt.subplot(1, 2, 2)\n",
    "librosa.display.specshow(W_score_onsets, y_axis='linear', x_axis='frames',vmax=0.5,cmap='Blues', sr=Fs, hop_length=H)\n",
    "plt.xticks(np.arange(0.5, 16+0.5,1), np.arange(0,16,1))\n",
    "plt.title('Onset initialised W')\n",
    "plt.xlabel('components')\n"
   ]
  },
  {
   "cell_type": "code",
   "execution_count": null,
   "metadata": {},
   "outputs": [],
   "source": [
    "# ### Here, also onset model, however, experimenting with only one onset column instead of multiple ones\n",
    "# W_score_onsets = np.zeros((X.shape[0], 9))\n",
    "# print(W_score_onsets.shape)\n",
    "# cord_high = [0, 261.626, 293.665, 329.628, 349.228, 391.995, 440, 493.883, 523.251]\n",
    "# for i in range(W_score_onsets.shape[1]):\n",
    "#     temp1 = cord_high[i]\n",
    "#     if i==0:\n",
    "#         W_score_onsets[:, i] = 0.25  #np.finfo(float).eps\n",
    "#     else:\n",
    "#         for p in range(1,20):\n",
    "#             temp_cord = np.int(np.around((temp1*p)/ratio_))\n",
    "#             W_score_onsets[temp_cord-2:temp_cord+(2*p), i] = 1/np.float(p)\n",
    "            \n",
    "# plt.figure(figsize=(15, 5))\n",
    "# plt.subplot(1, 2, 1)\n",
    "# librosa.display.specshow(W_prime, y_axis='linear', x_axis='frames', vmax=0.5, cmap='Blues')\n",
    "# plt.subplot(1, 2, 2)\n",
    "# librosa.display.specshow(W_score_onsets, y_axis='linear', x_axis='frames',vmax=0.5,cmap='Blues')"
   ]
  },
  {
   "cell_type": "code",
   "execution_count": null,
   "metadata": {},
   "outputs": [],
   "source": [
    "temp_H_score_onset = np.zeros((16, H_prime_learnt.shape[1]))  #check\n",
    "for i in range(0,len(timeIdx)-1):\n",
    "    col = i*2\n",
    "    temp_H_score_onset[1+col,np.int(np.around(timeIdx[i]*43)):np.int(np.around(timeIdx[i+1]*43))-1] = 1\n",
    "    temp_H_score_onset[col,np.int(np.around(timeIdx[i]*43))-3:np.int(np.around(timeIdx[i]*43))+4] = 0.25\n",
    "    \n",
    "\n",
    "temp_H_score_onset[15,np.int(np.around(timeIdx[7]*43)):] = 1\n",
    "temp_H_score_onset[14,np.int(np.around(timeIdx[7]*43))-3:np.int(np.around(timeIdx[7]*43))+4] = 0.25\n",
    "\n",
    "plt.figure(figsize=(15, 5))\n",
    "plt.subplot(1, 2, 1)\n",
    "librosa.display.specshow(W_score_onsets, y_axis='linear', x_axis='frames', cmap='Blues', vmax=0.5, sr=Fs, hop_length=H)\n",
    "plt.xlabel('components')\n",
    "plt.xticks(np.arange(0.5, 16+0.5,1), np.arange(0,16,1))\n",
    "plt.title('harmonic template W with onsets')\n",
    "plt.subplot(1, 2, 2)\n",
    "librosa.display.specshow(temp_H_score_onset, x_axis='time', y_axis='frames', cmap='Blues', sr=Fs, hop_length=H)\n",
    "plt.ylabel('components')\n",
    "plt.xlabel('Time (s)')\n",
    "plt.yticks(np.arange(0.5, 16+0.5,1), np.arange(0,16,1))\n",
    "plt.title('score informed initialized H')\n",
    "# plt.savefig('W_H_score_init_onsets.png', bbox_inches='tight')"
   ]
  },
  {
   "cell_type": "code",
   "execution_count": null,
   "metadata": {},
   "outputs": [],
   "source": [
    "### Here, H and W are with one column of onsets\n",
    "# temp_H_score_onset = np.zeros((9, H_prime_learnt.shape[1]))  #check\n",
    "\n",
    "# for i in range(0,len(timeIdx)-1):\n",
    "    \n",
    "#     temp_H_score_onset[i+1,np.int(np.around(timeIdx[i]*43)):np.int(np.around(timeIdx[i+1]*43))-1] = 1\n",
    "#     temp_H_score_onset[0,np.int(np.around(timeIdx[i]*43))-3:np.int(np.around(timeIdx[i]*43))+4] = 0.25\n",
    "# temp_H_score[7,np.int(np.around(timeIdx[7]*43)):] = 1\n",
    "# print(np.int(np.around(timeIdx[i]*43)))\n",
    "\n",
    "# temp_H_score_onset[8,np.int(np.around(timeIdx[7]*43)):] = 1\n",
    "# temp_H_score_onset[0,np.int(np.around(timeIdx[7]*43))-3:np.int(np.around(timeIdx[7]*43))+4] = 0.25\n",
    "\n",
    "# plt.figure(figsize=(15, 5))\n",
    "# plt.subplot(1, 2, 1)\n",
    "# librosa.display.specshow(W_score_onsets, y_axis='linear', x_axis='frames', cmap='Blues', vmax=0.5)\n",
    "# plt.xlabel('components')\n",
    "# plt.yticks(np.arange(0.5, 9+0.5,1), np.arange(0,9,1))\n",
    "# plt.title('harmonic template with onsets')\n",
    "# plt.subplot(1, 2, 2)\n",
    "# librosa.display.specshow(temp_H_score_onset, x_axis='time', y_axis='frames', cmap='Blues')\n",
    "# plt.ylabel('components')\n",
    "# plt.yticks(np.arange(0.5, 9+0.5,1), np.arange(0,9,1))\n",
    "# plt.title('score informed initialized H')"
   ]
  },
  {
   "cell_type": "code",
   "execution_count": null,
   "metadata": {},
   "outputs": [],
   "source": [
    "print(W_score_onsets.shape)\n",
    "print(temp_H_score_onset.shape)\n",
    "t = time.time()\n",
    "# V = Y\n",
    "V = np.abs(X)\n",
    "R = 16\n",
    "eps = 1\n",
    "[W_score_onsets_l, H_score_onsets_l] = NMF_const_score(V,R,eps, W_score_onsets, temp_H_score_onset)\n",
    "elapsed = time.time()-t\n",
    "print(\"Time elapsed (sec) :\", elapsed)"
   ]
  },
  {
   "cell_type": "code",
   "execution_count": null,
   "metadata": {},
   "outputs": [],
   "source": [
    "#Numba\n",
    "print(W_score_onsets.shape)\n",
    "print(temp_H_score_onset.shape)\n",
    "t = time.time()\n",
    "# V = Y\n",
    "V = np.abs(X)\n",
    "R = 16\n",
    "eps = 1\n",
    "[W_score_onsets_l, H_score_onsets_l] = nu_NMF_const_score(V,R,eps, W_score_onsets, temp_H_score_onset)\n",
    "elapsed = time.time()-t\n",
    "print(\"Time elapsed (sec) :\", elapsed)"
   ]
  },
  {
   "cell_type": "code",
   "execution_count": null,
   "metadata": {},
   "outputs": [],
   "source": [
    "\n",
    "plt.figure(figsize=(15,5))\n",
    "plt.subplot(1,2,1)\n",
    "# librosa.display.specshow(W_score_onsets, y_axis='linear', x_axis = 'frames', vmax=0.05, cmap=color_wb)\n",
    "librosa.display.specshow(W_score_onsets_l, y_axis='linear', x_axis = 'frames', vmax=0.35, cmap='Blues', sr=Fs, hop_length=H)\n",
    "plt.xlabel('components')\n",
    "plt.xticks(np.arange(0.5, 16+0.5,1), np.arange(0,16,1))\n",
    "plt.title('W learnt with onset templates')\n",
    "plt.subplot(1,2,2)\n",
    "librosa.display.specshow(H_score_onsets_l, x_axis='time', y_axis='frames', vmax=1, cmap='Blues', sr=Fs, hop_length=H)\n",
    "plt.ylabel('components')\n",
    "plt.xlabel('Time (s)')\n",
    "plt.yticks(np.arange(0.5, 16+0.5,1), np.arange(0,16,1))\n",
    "plt.title('H learnt with onset templates')\n",
    "# plt.savefig('W_H_score_learnt_onsets.png', bbox_inches='tight')\n"
   ]
  },
  {
   "cell_type": "code",
   "execution_count": null,
   "metadata": {},
   "outputs": [],
   "source": [
    "phase_ = np.angle(X)\n",
    "masked_recons = np.divide(np.dot(W_score_onsets_l,H_score_onsets_l), np.dot(W_score_onsets_l,H_score_onsets_l) + np.finfo(float).eps )\n",
    "V_recons_score_onsets = np.multiply(Y,masked_recons)*np.exp(phase_, dtype='complex')\n",
    "y6 = librosa.istft(np.sqrt(V_recons_score_onsets), win_length=N, hop_length=H, length=len(x))"
   ]
  },
  {
   "cell_type": "code",
   "execution_count": null,
   "metadata": {},
   "outputs": [],
   "source": [
    "Audio(y6, rate=Fs)"
   ]
  },
  {
   "cell_type": "code",
   "execution_count": null,
   "metadata": {},
   "outputs": [],
   "source": [
    "### Can be used to find the KL Divergence values for 2 matrices\n",
    "# start = time.time()\n",
    "# kl_score = my_kl_div3(np.dot(W_score,H_score), Y)\n",
    "# kl_onset = my_kl_div3(np.dot(W_score_onsets,H_score_onsets),Y)\n",
    "# end = time.time()\n",
    "# print('time taken :', end-start)"
   ]
  },
  {
   "cell_type": "code",
   "execution_count": null,
   "metadata": {},
   "outputs": [],
   "source": [
    "######### notewise audio decomposition for C major scale#########"
   ]
  },
  {
   "cell_type": "code",
   "execution_count": null,
   "metadata": {},
   "outputs": [],
   "source": [
    "temp_mat = np.zeros((W_score_onsets_l.shape[0], H_score_onsets_l.shape[1]))\n",
    "temp_notes = []\n",
    "C_maj_note_events = np.zeros((H_score_onsets_l.shape[0],H_score_onsets_l.shape[1]))\n",
    "# C_maj_note_events[0:2,:] = H_score_onsets[0:2,:]  #Try to make a fn and concatenate the whole thing together\n",
    "for i in range(0,H_score_onsets_l.shape[0]-1):\n",
    "    C_maj_note_events[i:i+2,:] = H_score_onsets_l[i:i+2,:]\n",
    "    Mask_num = np.dot(W_score_onsets_l, C_maj_note_events)\n",
    "    Mask_den = np.dot(W_score_onsets_l, H_score_onsets_l)+np.finfo(float).eps\n",
    "    Mask_note = np.divide(Mask_num, Mask_den) #for all notes, mask\n",
    "    temp_mat = temp_mat+Mask_note\n",
    "    temp_notes.append(Mask_note)\n",
    "print(C_maj_note_events.shape)\n",
    "plt.figure(figsize=(15,5))\n",
    "plt.subplot(1,2,1)\n",
    "librosa.display.specshow(H_score_onsets_l, y_axis='frames', x_axis = 'time', vmax=2, cmap='Blues')\n",
    "plt.yticks(np.arange(0.5, 16+0.5,1), np.arange(0,16,1))\n",
    "plt.title('H matrix learnt from score initialisation')\n",
    "plt.ylabel('components')\n",
    "plt.xlabel('Time (s)')\n",
    "plt.subplot(1,2,2)\n",
    "librosa.display.specshow(C_maj_note_events, x_axis='time', y_axis='frames', vmax=2, cmap='Blues')\n",
    "plt.yticks(np.arange(0.5, 16+0.5,1), np.arange(0,16,1))\n",
    "plt.title('H matrix from concatennated notes')\n",
    "plt.ylabel('components')\n",
    "plt.xlabel('Time (s)')\n",
    "# plt.subplot(2,2,3)\n",
    "# librosa.display.specshow(W_score_onsets, y_axis='linear', x_axis = 'frames', vmax=0.005, cmap='Blues')\n",
    "# plt.xlabel('components')\n",
    "# plt.savefig('H_learnt_notes_total.png', bbox_inches='tight')"
   ]
  },
  {
   "cell_type": "code",
   "execution_count": null,
   "metadata": {},
   "outputs": [],
   "source": [
    "C_f_note_ = np.zeros((H_score_onsets_l.shape[0], H_score_onsets_l.shape[1]))\n",
    "C_f_note_[4:6,:] = H_score_onsets_l[4:6,:]  #Try to make a fn and concatenate the whole thing together\n",
    "Mask_numer = np.dot(W_score_onsets_l, C_f_note_)\n",
    "Mask_denom = np.dot(W_score_onsets_l, H_score_onsets_l)+np.finfo(float).eps\n",
    "Mask_notes = np.divide(Mask_numer, Mask_denom) #for a single note\n",
    "plt.figure(figsize=(15,5))\n",
    "plt.subplot(1,2,1)\n",
    "librosa.display.specshow(H_score_onsets_l, sr=Fs, hop_length=H, y_axis = 'frames', x_axis = 'time', fmin=lower, fmax=upper, vmax = 2, cmap = 'Blues')\n",
    "plt.ylabel('components')\n",
    "plt.xlabel('Time (s)')\n",
    "plt.yticks(np.arange(0.5, 16+0.5,1), np.arange(0,16,1))\n",
    "plt.title('Score informed onsets learnt H')\n",
    "plt.subplot(1,2,2)\n",
    "librosa.display.specshow(C_f_note_, sr=Fs, hop_length=H, y_axis = 'frames', x_axis = 'time', fmin=lower, fmax=upper, vmax = 2, cmap = 'Blues')\n",
    "plt.ylabel('components')\n",
    "plt.xlabel('Time (s)')\n",
    "plt.yticks(np.arange(0.5, 16+0.5,1), np.arange(0,16,1))\n",
    "plt.title('Note event 3')\n",
    "# plt.savefig('H_learnt_notes_single.png', bbox_inches='tight')"
   ]
  },
  {
   "cell_type": "code",
   "execution_count": null,
   "metadata": {},
   "outputs": [],
   "source": [
    "C_four_note = np.multiply(Y,Mask_notes)  #To get one particular note, like C4 or D4\n",
    "C_maj_note_complete = np.multiply(Y,Mask_note)  #To get all notes, seperately and then joined together"
   ]
  },
  {
   "cell_type": "code",
   "execution_count": null,
   "metadata": {},
   "outputs": [],
   "source": [
    "phase_ = np.angle(X)\n",
    "#original audio reconstructed\n",
    "orig_aud = librosa.istft(X, win_length=N, hop_length=H)\n",
    "#single note wise event reconstructed\n",
    "note_aud = librosa.istft(np.sqrt(C_four_note*np.exp(phase_,dtype='complex')), win_length=N, hop_length=H)\n",
    "#entire scale reconstructed by summing all single note reconstructions\n",
    "scale_aud = librosa.istft(np.sqrt(C_maj_note_complete*np.exp(phase_,dtype='complex')), win_length=N, hop_length=H)"
   ]
  },
  {
   "cell_type": "code",
   "execution_count": null,
   "metadata": {},
   "outputs": [],
   "source": [
    "Audio(orig_aud, rate=Fs) #original audio"
   ]
  },
  {
   "cell_type": "code",
   "execution_count": null,
   "metadata": {
    "scrolled": true
   },
   "outputs": [],
   "source": [
    "# out = np.zeros((note_aud.shape[0], 2))\n",
    "# out[:,0] = note_aud\n",
    "# out[:,1] = note_aud\n",
    "#librosa.output.write_wav('note_three_out.wav', out, sr=Fs, norm=True)\n",
    "\n",
    "Audio(note_aud, rate=Fs) #Only third scale after masking\n"
   ]
  },
  {
   "cell_type": "code",
   "execution_count": null,
   "metadata": {},
   "outputs": [],
   "source": [
    "Audio(scale_aud, rate=Fs) #complete scale after masking"
   ]
  },
  {
   "cell_type": "code",
   "execution_count": null,
   "metadata": {},
   "outputs": [],
   "source": [
    "# out = np.zeros((scale_aud.shape[0], 2))\n",
    "# out[:,0] = scale_aud\n",
    "# out[:,1] = scale_aud\n",
    "\n",
    "\n",
    "# librosa.output.write_wav('scale_masked_complete.wav', out, sr=Fs, norm=True)"
   ]
  }
 ],
 "metadata": {
  "anaconda-cloud": {},
  "kernelspec": {
   "display_name": "Python 3",
   "language": "python",
   "name": "python3"
  },
  "language_info": {
   "codemirror_mode": {
    "name": "ipython",
    "version": 3
   },
   "file_extension": ".py",
   "mimetype": "text/x-python",
   "name": "python",
   "nbconvert_exporter": "python",
   "pygments_lexer": "ipython3",
   "version": "3.6.7"
  }
 },
 "nbformat": 4,
 "nbformat_minor": 1
}
