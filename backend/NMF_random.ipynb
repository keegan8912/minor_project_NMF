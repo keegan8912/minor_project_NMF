{
 "cells": [
  {
   "cell_type": "code",
   "execution_count": null,
   "metadata": {},
   "outputs": [],
   "source": [
    "#Basic NMF - random initialisations"
   ]
  },
  {
   "cell_type": "code",
   "execution_count": 8,
   "metadata": {},
   "outputs": [],
   "source": [
    "import librosa.display\n",
    "import matplotlib.pyplot as plt\n",
    "import numpy as np"
   ]
  },
  {
   "cell_type": "code",
   "execution_count": 15,
   "metadata": {},
   "outputs": [],
   "source": [
    "# matrice_stuff = np.ones((10,10))\n",
    "# matrice_stuff = None\n",
    "matrice_stuff = np.zeros((10,10))"
   ]
  },
  {
   "cell_type": "code",
   "execution_count": 16,
   "metadata": {},
   "outputs": [
    {
     "data": {
      "text/plain": [
       "Text(0.5, 1.0, 'W learnt randomly')"
      ]
     },
     "execution_count": 16,
     "metadata": {},
     "output_type": "execute_result"
    },
    {
     "data": {
      "image/png": "[encoded data removed]",
      "text/plain": [
       "<Figure size 1080x360 with 1 Axes>"
      ]
     },
     "metadata": {
      "needs_background": "light"
     },
     "output_type": "display_data"
    }
   ],
   "source": [
    "plt.figure(figsize=(15,5))\n",
    "plt.subplot(1,2,1)\n",
    "librosa.display.specshow(matrice_stuff, y_axis='linear', x_axis='frames', vmax=1, cmap='Blues', sr=22100, hop_length=512)\n",
    "plt.xticks(np.arange(0.5, 8+0.5,1), np.arange(0,8,1))\n",
    "plt.xlabel('components')\n",
    "plt.title('W learnt randomly')\n",
    "\n"
   ]
  },
  {
   "cell_type": "code",
   "execution_count": null,
   "metadata": {},
   "outputs": [],
   "source": [
    "#runs the library file common_init_ which contains the initialisations for common functions and libraries\n",
    "%run common_init_"
   ]
  },
  {
   "cell_type": "code",
   "execution_count": null,
   "metadata": {},
   "outputs": [],
   "source": [
    "#reading audio file for NMF\n",
    "x, Fs = sf.read('FMP_C2_F10.wav')\n",
    "# Audio(x, rate=Fs)"
   ]
  },
  {
   "cell_type": "code",
   "execution_count": null,
   "metadata": {},
   "outputs": [],
   "source": [
    "#Taking default window size 4096 and hop size 512\n",
    "N = 4096\n",
    "H = 512\n",
    "w = np.hanning(N)\n",
    "X = librosa.core.stft(x,n_fft=N,hop_length=H, window=w)\n",
    "print(\"Shape of X is :\", X.shape)\n",
    "Y = np.abs(X)**2\n",
    "print(\"Shape of Y is :\", Y.shape)"
   ]
  },
  {
   "cell_type": "code",
   "execution_count": null,
   "metadata": {},
   "outputs": [],
   "source": [
    "#setting seed for random operations\n",
    "np.random.seed(0)"
   ]
  },
  {
   "cell_type": "code",
   "execution_count": null,
   "metadata": {},
   "outputs": [],
   "source": [
    "# For NMF, we break up V ~ W.H, so here, Y serves as the matrix V\n",
    "t = time.time()\n",
    "# V = Y\n",
    "V = np.abs(X)\n",
    "R = 8\n",
    "eps = 1\n",
    "W_, H_, W_ret = NMF(V,R,eps)\n",
    "elapsed = time.time()-t\n",
    "print(\"Time elapsed (sec) :\", elapsed)"
   ]
  },
  {
   "cell_type": "code",
   "execution_count": null,
   "metadata": {},
   "outputs": [],
   "source": [
    "###numba\n",
    "t = time.time()\n",
    "# V = Y\n",
    "V = np.abs(X)\n",
    "R = 8   \n",
    "eps = 1\n",
    "W_, H_ = nu_NMF(V,R,eps)\n",
    "elapsed = time.time()-t\n",
    "print(\"Time elapsed (sec) :\", elapsed)"
   ]
  },
  {
   "cell_type": "code",
   "execution_count": null,
   "metadata": {},
   "outputs": [],
   "source": [
    "T_coef = np.arange(X.shape[1]) * H / Fs\n",
    "F_coef = np.arange(X.shape[0]) * Fs / N\n",
    "duration = (len(x)//Fs) + 1\n",
    "#left, right, lower and upper bounds for the plots\n",
    "left = min(T_coef)\n",
    "right = max(T_coef) + N / Fs\n",
    "lower = min(F_coef)\n",
    "upper = max(F_coef)\n",
    "ratio_ = (upper/X.shape[0])"
   ]
  },
  {
   "cell_type": "code",
   "execution_count": null,
   "metadata": {},
   "outputs": [],
   "source": [
    "#Plotting W and H matrices after random NMF\n",
    "plt.figure(figsize=(15,5))\n",
    "plt.subplot(1,2,1)\n",
    "librosa.display.specshow(W_, y_axis='linear', x_axis='frames', vmax=0.5, cmap='Blues', sr=Fs, hop_length=H)\n",
    "plt.xticks(np.arange(0.5, R+0.5,1), np.arange(0,R,1))\n",
    "plt.xlabel('components')\n",
    "plt.title('W learnt randomly')\n",
    "\n",
    "\n",
    "plt.subplot(1,2,2)\n",
    "librosa.display.specshow(H_, x_axis='time',y_axis='frames', vmax=2, cmap='Blues', sr=Fs, hop_length=H)\n",
    "plt.ylabel('components')\n",
    "plt.xlabel('Time (s)')\n",
    "plt.yticks(np.arange(0.5, R+0.5,1), np.arange(0,R,1))\n",
    "plt.title('H learnt randomly')\n",
    "\n",
    "# plt.savefig('Cmaj_random_init_learnt.png', bbox_inches='tight')"
   ]
  },
  {
   "cell_type": "code",
   "execution_count": null,
   "metadata": {},
   "outputs": [],
   "source": [
    "# #reconstruction of spectrogram\n",
    "# plt.figure(figsize=(14, 8))\n",
    "# plt.subplot(1, 2, 1)\n",
    "# librosa.display.specshow(np.dot(W_,H_), sr=Fs, hop_length=H, y_axis = 'linear', x_axis = 'time', fmin=lower, fmax=upper, vmax = 0.1, cmap = 'Blues')\n",
    "# plt.colorbar(format=None)\n",
    "# plt.title('Reconstruction')\n",
    "# plt.subplot(1,2, 2)\n",
    "# librosa.display.specshow(Y, sr=Fs, hop_length=H, y_axis = 'linear', x_axis = 'time', fmin=lower, fmax=upper, vmax = 0.1, cmap = 'Blues')\n",
    "# plt.colorbar(format=None)\n",
    "# plt.title('Original')\n"
   ]
  },
  {
   "cell_type": "code",
   "execution_count": null,
   "metadata": {},
   "outputs": [],
   "source": [
    "phase_ = np.angle(X)\n",
    "masked_V = np.divide(np.dot(W_,H_), np.dot(W_,H_)+ np.finfo(float).eps)\n",
    "masked_Y = np.multiply(masked_V,Y)*np.exp(phase_, dtype='complex')\n",
    "masked_recons = librosa.istft(np.sqrt(masked_Y), win_length=N, hop_length=H)"
   ]
  },
  {
   "cell_type": "code",
   "execution_count": null,
   "metadata": {},
   "outputs": [],
   "source": []
  },
  {
   "cell_type": "code",
   "execution_count": null,
   "metadata": {},
   "outputs": [],
   "source": [
    "Audio(masked_recons, rate=Fs)  #Random reconstruction Audio"
   ]
  },
  {
   "cell_type": "code",
   "execution_count": null,
   "metadata": {},
   "outputs": [],
   "source": [
    "################### second part ################\n",
    "#This part has the randomly initialized NMF for example 'Gravity'"
   ]
  },
  {
   "cell_type": "code",
   "execution_count": null,
   "metadata": {},
   "outputs": [],
   "source": [
    "x2, Fs2 = sf.read('gravity_intro.wav')\n",
    "x2 = x2.astype(float)\n",
    "x2 = x2.sum(axis=1) / 2\n",
    "\n",
    "Audio(x2, rate=Fs2)"
   ]
  },
  {
   "cell_type": "code",
   "execution_count": null,
   "metadata": {},
   "outputs": [],
   "source": [
    "#Repeat for intro wav file\n",
    "#Here default window size is 8820 and hop length 2230\n",
    "N = 8820\n",
    "H = 2230\n",
    "#H = 512\n",
    "w = np.hanning(N)\n",
    "X2 = librosa.core.stft(x2,n_fft=N,hop_length=H, window=w)\n",
    "print(\"Shape of X is :\", X2.shape)\n",
    "Y2 = np.abs(X2)**2\n",
    "print(\"Shape of Y is :\", Y2.shape)"
   ]
  },
  {
   "cell_type": "code",
   "execution_count": null,
   "metadata": {},
   "outputs": [],
   "source": [
    "t = time.time()\n",
    "# V2 = Y2\n",
    "V2 = np.abs(X2)\n",
    "R2 = 15\n",
    "eps = 1\n",
    "W_2, H_2, W_ret2 = NMF(V2,R2,eps)\n",
    "elapsed = time.time()-t\n",
    "print(\"Time elapsed (sec) :\", elapsed)"
   ]
  },
  {
   "cell_type": "code",
   "execution_count": null,
   "metadata": {},
   "outputs": [],
   "source": [
    "#Numba\n",
    "t = time.time()\n",
    "# V2 = Y2\n",
    "V2 = np.abs(X2)\n",
    "R2 = 15\n",
    "eps = 1\n",
    "W_2, H_2 = nu_NMF(V2,R2,eps)\n",
    "elapsed = time.time()-t\n",
    "print(\"Time elapsed (sec) :\", elapsed)"
   ]
  },
  {
   "cell_type": "code",
   "execution_count": null,
   "metadata": {},
   "outputs": [],
   "source": [
    "plt.figure(figsize=(15,5))\n",
    "plt.subplot(1,2,1)\n",
    "librosa.display.specshow(np.random.rand(X2.shape[1], R2), y_axis='linear', x_axis='frames', vmax=2, cmap='Blues', sr=Fs2, hop_length=H)\n",
    "plt.xlabel('components')\n",
    "plt.xticks(np.arange(0.5, R2+0.5,1), np.arange(0,R2,1))\n",
    "plt.title('W randomly initialized')\n",
    "plt.subplot(1,2,2)\n",
    "librosa.display.specshow(np.random.rand(R2,X2.shape[1]), x_axis='time',y_axis='frames', vmax=2, cmap='Blues', sr=Fs2, hop_length=H)\n",
    "plt.ylabel('components')\n",
    "plt.xlabel('Time (s)')\n",
    "plt.yticks(np.arange(0.5, R2+0.5,1), np.arange(0,R2,1))\n",
    "plt.title('H randomly initialized')\n",
    "\n",
    "# plt.savefig('Gravity_random_init.png', bbox_inches='tight')\n"
   ]
  },
  {
   "cell_type": "code",
   "execution_count": null,
   "metadata": {},
   "outputs": [],
   "source": [
    "plt.figure(figsize=(15,5))\n",
    "plt.subplot(1,2,1)\n",
    "librosa.display.specshow(W_2, y_axis='linear', x_axis='frames', vmax=0.5, cmap='Blues', sr=Fs2, hop_length=H)\n",
    "plt.xlabel('components')\n",
    "plt.xticks(np.arange(0.5, R2+0.5,1), np.arange(0,R2,1))\n",
    "plt.title('W learnt randomly')\n",
    "plt.subplot(1,2,2)\n",
    "librosa.display.specshow(H_2, x_axis='time',y_axis='frames', vmax=1e-1, cmap='Blues', sr=Fs2, hop_length=H)\n",
    "plt.ylabel('components')\n",
    "plt.xlabel('Time (s)')\n",
    "plt.yticks(np.arange(0.5, R2+0.5,1), np.arange(0,R2,1))\n",
    "plt.title('H learnt randomly')\n",
    "\n",
    "\n",
    "# plt.savefig('Gravity_random_init_learnt.png', bbox_inches='tight')"
   ]
  },
  {
   "cell_type": "code",
   "execution_count": null,
   "metadata": {},
   "outputs": [],
   "source": [
    "phase_2 = np.angle(X2)\n",
    "V_recons2 = np.dot(W_2,H_2)*np.exp(phase_2, dtype='complex')\n",
    "intro_ = librosa.istft(X2, win_length=N, hop_length=H)\n",
    "\n",
    "\n",
    "masked_V = np.divide(np.dot(W_2,H_2), np.dot(W_2,H_2)+ np.finfo(float).eps)\n",
    "masked_Y2 = np.multiply(masked_V,Y2)*np.exp(phase_2, dtype='complex')\n",
    "masked_recons = librosa.istft(np.sqrt(masked_Y2), win_length=N, hop_length=H)"
   ]
  },
  {
   "cell_type": "code",
   "execution_count": null,
   "metadata": {},
   "outputs": [],
   "source": [
    "Audio(masked_recons, rate=Fs2)"
   ]
  },
  {
   "cell_type": "code",
   "execution_count": null,
   "metadata": {},
   "outputs": [],
   "source": [
    "Audio(intro_, rate=Fs2)"
   ]
  },
  {
   "cell_type": "code",
   "execution_count": null,
   "metadata": {},
   "outputs": [],
   "source": [
    "##### separation of left hand and right hand for Gravity ######\n",
    "\n",
    "#left keys = [Eflat2, Eflat3, C2, C3, Aflat3]\n",
    "leftMat = np.zeros((H_2.shape[0], H_2.shape[1]))\n",
    "leftMat[0:6, :] = H_2[0:6,:]\n",
    "rightMat = np.zeros((H_2.shape[0], H_2.shape[1]))\n",
    "rightMat[6:,:] = H_2[6:,:]\n",
    "plt.figure(figsize=(15,5))\n",
    "plt.subplot(1,2,1)\n",
    "librosa.display.specshow(leftMat, x_axis='time', y_axis='frames', vmax=0.05, cmap='Blues',sr=Fs2, hop_length=H)\n",
    "plt.title('left hand notes')\n",
    "plt.yticks(np.arange(0.5, R2+0.5,1), np.arange(0,R2,1))\n",
    "plt.subplot(1,2,2)\n",
    "librosa.display.specshow(rightMat, x_axis='time', y_axis='frames', vmax=0.05, cmap='Blues',sr=Fs2, hop_length=H)\n",
    "plt.yticks(np.arange(0.5, R2+0.5,1), np.arange(0,R2,1))\n",
    "plt.title('right hand notes')\n",
    "\n",
    "\n",
    "\n",
    "#Taking phase of the STFT of X2\n",
    "phase_2 = np.angle(X2)\n",
    "\n",
    "#Masking the right hand side\n",
    "mask_right_num = np.dot(W_2, rightMat)\n",
    "mask_right_dem = np.dot(W_2, H_2) + np.finfo(float).eps\n",
    "mask_right = np.divide(mask_right_num, mask_right_dem)\n",
    "right_Y2 = np.multiply(Y2, mask_right)\n",
    "\n",
    "\n",
    "#Masking right hand side\n",
    "mask_left_num = np.dot(W_2, leftMat)\n",
    "mask_left_dem = np.dot(W_2, H_2) + np.finfo(float).eps\n",
    "mask_left = np.divide(mask_left_num, mask_left_dem)\n",
    "left_Y2 = np.multiply(Y2, mask_left)\n",
    "\n",
    "#Right hand reconstruction\n",
    "right_recons = right_Y2*np.exp(phase_2, dtype='complex')\n",
    "#Left hand recons\n",
    "left_recons = left_Y2*np.exp(phase_2, dtype='complex')"
   ]
  },
  {
   "cell_type": "code",
   "execution_count": null,
   "metadata": {},
   "outputs": [],
   "source": [
    "#Left hand ISTFT and Audio\n",
    "left_aud_recons = librosa.istft(np.sqrt(left_recons), win_length=N, hop_length=H)\n",
    "Audio(left_aud_recons, rate=Fs2)"
   ]
  },
  {
   "cell_type": "code",
   "execution_count": null,
   "metadata": {},
   "outputs": [],
   "source": [
    "##Right Hand\n",
    "right_aud_recons = librosa.istft(np.sqrt(right_recons), win_length=N, hop_length=H)\n",
    "Audio(right_aud_recons, rate=Fs2)"
   ]
  },
  {
   "cell_type": "code",
   "execution_count": null,
   "metadata": {},
   "outputs": [],
   "source": [
    "#freq = [77.7817, 155.563, 65.4064, 130.813, 195.998, 207.652, 391.995, 466.164, 311.127, 783.991, 523.251, 622.254, 587.330, 415.305, 830.609]\n",
    "#order of notes = [Eflat2, Eflat3, C2, C3, G3, Aflat3,G4 Bflat4 Eflat4 G5, G4 C5 Eflat5 G5, G4 Bflat4, C5 D5 G5, Aflat4 C5 Eflat5 Aflat5] ]\n",
    "\n",
    "#left hand notes = [E flat (lower) , E flat (upper), C (lower), C (upper), Aflat]\n",
    "#left keys = [Eflat2, Eflat3, C2, C3, G3, Aflat3]\n",
    "#left hand freq = [77.7817, 155.563, 65.4064, 130.813, 195.998, 207.652] #in order\n",
    "\n",
    "\n",
    "#right hand notes = [G Bflat Eflat G (upper), G C Eflat G (upper), G Bflat, C, D G (upper), Aflat, C, Eflat, Aflat(upper)]\n",
    "#right keys = [G4 Bflat4 Eflat4 G5, G4 C5 Eflat5 G5, G4 Bflat4, C5 D5 G5, Aflat4 C5 Eflat5 Aflat5]\n",
    "#right hand freq = [391.995, 466.164, 311.127, 783.991, 523.251, 622.254, 587.330, 415.305, 830.609] #in below order\n",
    "#'G4' ,'Bflat4', 'Eflat4', 'G5', 'C5', 'Eflat5', 'D5', 'Aflat4', 'Aflat5'\n",
    "#no of distinctive notes = 14"
   ]
  }
 ],
 "metadata": {
  "anaconda-cloud": {},
  "kernelspec": {
   "display_name": "Python 3",
   "language": "python",
   "name": "python3"
  },
  "language_info": {
   "codemirror_mode": {
    "name": "ipython",
    "version": 3
   },
   "file_extension": ".py",
   "mimetype": "text/x-python",
   "name": "python",
   "nbconvert_exporter": "python",
   "pygments_lexer": "ipython3",
   "version": "3.6.7"
  }
 },
 "nbformat": 4,
 "nbformat_minor": 1
}
